{
 "cells": [
  {
   "cell_type": "markdown",
   "metadata": {},
   "source": [
    "# Python for Data Analysis TD1\n",
    "\n",
    "## Course de Romain Jouin \n",
    "[GitHub de la formation Romain Jouin](https://github.com/romainjouin/formation_python)\n",
    "\n",
    "[Anti-sèche Markdown - L'essentiel](https://www.christopheducamp.com/2014/09/18/love-markdown/)\n",
    "\n",
    "\n",
    "### Introduction Python ?\n",
    "\n",
    "\n",
    "Python est un langage:\n",
    "- Interpreté (= compilé à chaque lancement)\n",
    "- Agréable à écrire et a lire car aéré et indenté : Sauts de lignes et indentations remplaçent points virgules et accolades\n",
    "- Orienté objet mais pouvant être écrit de façon procédurale.\n",
    "- Equipé d'une multitude de librairies développées par des tiers, et particulièrement bien équipé pour le domaine qui nous intéresse. \n",
    "\n",
    "\n",
    "### Data ?\n",
    "\n",
    "- fichier(s) excel \n",
    "- fichier(s) tabulées , csv\n",
    "- fichier(s) texte\n",
    "- fichier(s) json\n",
    "- image(s)\n",
    "- autre type de fichier à analyser pour en comprendre la structure et extraire la donnée brute : page web ( webscraping)\n",
    "- ...\n",
    "\n",
    "- un mélange des précédents formats, généralement reliées par un identifiant permettant l'alignement des donées ( database join ). par ex fichier csv  ville /année / temperature, fichier csv  ville / age moyen \n",
    "\n",
    "\n",
    "\n",
    "Sources des données : \n",
    "- open data d'etat\n",
    "- privée, fournie par une entreprise\n",
    "- enregistrée personnellement ( historique temperature de votre salon)\n",
    "- collectée et publiée par un tiers : kaggle ..\n",
    "- ...\n",
    "\n",
    "\n",
    "exemples de dataset ?\n",
    "\n",
    "\n",
    "### Analysis ?\n",
    "\n",
    "\"Faire parler\" les donnée brutes\n",
    "\n",
    "Leur faire dire des choses difficiles ou impossible à déduire en les lisant linéairement. \n",
    "\n",
    "Afficher graphiquement pour réveler le sens.\n",
    "\n",
    "Prédire a partir d'un historique d'éléments associés ( photo / nom de personne, photo / nom de vetement, photo / \"y'a il un piéton ou nom ?\" , évènements client / rupture d'abonnement ou non, etc...\n",
    "\n",
    "\n",
    "# Les outils. installation et prise en main.\n",
    "\n",
    "\n",
    "## Python\n",
    "\n",
    "Nous allons utiliser la version 3 pour maximiser la compatibilité avec la dernière version des librairies.\n",
    "\n",
    "Vérifiez d'abord quelle version est installée sur votre système :"
   ]
  },
  {
   "cell_type": "code",
   "execution_count": 5,
   "metadata": {
    "scrolled": true
   },
   "outputs": [
    {
     "name": "stdout",
     "output_type": "stream",
     "text": [
      "Requirement already satisfied: numpy in c:\\users\\lin37\\anaconda3\\lib\\site-packages (1.18.5)\n"
     ]
    }
   ],
   "source": [
    "#Dans le cas si on est sur Linux ou MacOS\n",
    "#Ne pas faire\n",
    "#!python\n",
    "#https://jakevdp.github.io/blog/2017/12/05/installing-python-packages-from-jupyter/\n",
    "\n",
    "import sys\n",
    "!{sys.executable} -m pip install numpy\n",
    "#https://jakevdp.github.io/blog/2017/12/05/installing-python-packages-from-jupyter/#The-Details:-Why-is-Installation-from-Jupyter-so-Messy?\n",
    "\n"
   ]
  },
  {
   "cell_type": "markdown",
   "metadata": {},
   "source": [
    "ATTENTION ! python / python3 pip / pip3\n",
    "\n",
    "pour utiliser python 3 : lancez toujours python avec python3 et pip avec pip3"
   ]
  },
  {
   "cell_type": "markdown",
   "metadata": {},
   "source": [
    "## Jupyter Notebook\n",
    "\n",
    "\n",
    "- Edition et Execution du code sur une page web, avec conservation de l'historique\n",
    "- Affichage matplotlib integré\n",
    "- Affichage markdown\n",
    "- Sauvegarde du notebook en local, publication simple sur github, accessible en ligne..\n",
    "- Très utilisé dans l'ecosysteme data science pour ces mêmes raisons.\n",
    "\n",
    "\n",
    "Plutot que d'editer dans un éditeur et lancer son code dans un shell, ou de travailler dans un IDE, Jupyter permet de travailler dans le navigateur, tout en conservant un historique des executions. Ca permet de \"raconter une histoire\", de montrer l'évolution d'un raisonnement. Les notebooks peuvent être sauvegardés et échangés.\n"
   ]
  },
  {
   "cell_type": "code",
   "execution_count": 6,
   "metadata": {},
   "outputs": [],
   "source": [
    "#Dans la console\n",
    "#$ jupyter notebook"
   ]
  },
  {
   "cell_type": "markdown",
   "metadata": {},
   "source": [
    "Un navigateur devrait s'ouvrir affichant la liste des fichiers contenus dans le dossier.\n",
    "Jupyter utilise un serveur web integré pour vous permettre de travailler en local dans le navigateur. ( Vous pourriez tout aussi bien travailler en distant)\n",
    "\n",
    "Pour créer un notebook, cliquez sur \"nouveau\" en haut à droite puis choisissez python3\n",
    "\n",
    "renommez le notebook, par exemple \"python for data analysis TD1\"\n",
    "\n",
    "\n",
    "Saisissez du code python dans la première cellule, puis shift+ entrée pour l'executer."
   ]
  },
  {
   "cell_type": "markdown",
   "metadata": {},
   "source": [
    "## Prise en main de Python avec Jupyter"
   ]
  },
  {
   "cell_type": "code",
   "execution_count": 17,
   "metadata": {},
   "outputs": [
    {
     "name": "stdout",
     "output_type": "stream",
     "text": [
      "hello\n"
     ]
    }
   ],
   "source": [
    "print(\"hello\") \n",
    "# puis shift entrée ( ou alt entrée pour executer et inserer une nouveller cellule)"
   ]
  },
  {
   "cell_type": "markdown",
   "metadata": {},
   "source": [
    "#### Détails\n",
    "Jupyter afficher la sortie du programme sous votre code, puis crée une nouvelle cellule.\n",
    "etc..\n",
    "Vous gardez ainsi mémoire de la progression de votre code.\n",
    "\n",
    "Chaque cellule peut devenir une cellule markdown : esc m\n",
    "faites shift entrée pour afficher le rendu markdown\n",
    "\n",
    "pour insérer une cellule avant ou après : esc a ou esc b\n",
    "\n",
    "fichier est automatiquement sauvegardé à intervalles réguliers.\n",
    "vous pouvez le transmettre, ou le publier directement sur github.\n",
    "\n",
    "( pour les fonctions additionnelles, --> O'Reilly)"
   ]
  },
  {
   "cell_type": "markdown",
   "metadata": {},
   "source": [
    "#### Sauvegarde automatique sur Jupyter"
   ]
  },
  {
   "cell_type": "code",
   "execution_count": 8,
   "metadata": {},
   "outputs": [
    {
     "data": {
      "application/javascript": [
       "IPython.notebook.set_autosave_interval(60000)"
      ]
     },
     "metadata": {},
     "output_type": "display_data"
    },
    {
     "name": "stdout",
     "output_type": "stream",
     "text": [
      "Autosaving every 60 seconds\n"
     ]
    }
   ],
   "source": [
    "%autosave 60"
   ]
  },
  {
   "cell_type": "markdown",
   "metadata": {},
   "source": [
    "### Pandas"
   ]
  },
  {
   "cell_type": "code",
   "execution_count": 16,
   "metadata": {},
   "outputs": [
    {
     "name": "stdout",
     "output_type": "stream",
     "text": [
      "Requirement already satisfied: pandas in c:\\users\\lin37\\anaconda3\\lib\\site-packages (1.0.5)\n",
      "Requirement already satisfied: pytz>=2017.2 in c:\\users\\lin37\\anaconda3\\lib\\site-packages (from pandas) (2020.1)\n",
      "Requirement already satisfied: numpy>=1.13.3 in c:\\users\\lin37\\anaconda3\\lib\\site-packages (from pandas) (1.18.5)\n",
      "Requirement already satisfied: python-dateutil>=2.6.1 in c:\\users\\lin37\\anaconda3\\lib\\site-packages (from pandas) (2.8.1)\n",
      "Requirement already satisfied: six>=1.5 in c:\\users\\lin37\\anaconda3\\lib\\site-packages (from python-dateutil>=2.6.1->pandas) (1.15.0)\n"
     ]
    }
   ],
   "source": [
    "!{sys.executable} -m pip install pandas\n",
    "#ou \n",
    "#! pip3 install pandas"
   ]
  },
  {
   "cell_type": "markdown",
   "metadata": {},
   "source": [
    "### Matplotlib"
   ]
  },
  {
   "cell_type": "code",
   "execution_count": 18,
   "metadata": {},
   "outputs": [
    {
     "name": "stdout",
     "output_type": "stream",
     "text": [
      "Requirement already satisfied: matplotlib in c:\\users\\lin37\\anaconda3\\lib\\site-packages (3.2.2)\n",
      "Requirement already satisfied: kiwisolver>=1.0.1 in c:\\users\\lin37\\anaconda3\\lib\\site-packages (from matplotlib) (1.2.0)\n",
      "Requirement already satisfied: numpy>=1.11 in c:\\users\\lin37\\anaconda3\\lib\\site-packages (from matplotlib) (1.18.5)\n",
      "Requirement already satisfied: pyparsing!=2.0.4,!=2.1.2,!=2.1.6,>=2.0.1 in c:\\users\\lin37\\anaconda3\\lib\\site-packages (from matplotlib) (2.4.7)\n",
      "Requirement already satisfied: python-dateutil>=2.1 in c:\\users\\lin37\\anaconda3\\lib\\site-packages (from matplotlib) (2.8.1)\n",
      "Requirement already satisfied: cycler>=0.10 in c:\\users\\lin37\\anaconda3\\lib\\site-packages (from matplotlib) (0.10.0)\n",
      "Requirement already satisfied: six>=1.5 in c:\\users\\lin37\\anaconda3\\lib\\site-packages (from python-dateutil>=2.1->matplotlib) (1.15.0)\n"
     ]
    }
   ],
   "source": [
    "!{sys.executable} -m pip install matplotlib"
   ]
  },
  {
   "cell_type": "markdown",
   "metadata": {},
   "source": [
    "### Typage Dynamique"
   ]
  },
  {
   "cell_type": "code",
   "execution_count": 20,
   "metadata": {},
   "outputs": [
    {
     "data": {
      "text/plain": [
       "int"
      ]
     },
     "execution_count": 20,
     "metadata": {},
     "output_type": "execute_result"
    }
   ],
   "source": [
    "a=1\n",
    "type(a)"
   ]
  },
  {
   "cell_type": "code",
   "execution_count": 21,
   "metadata": {},
   "outputs": [
    {
     "data": {
      "text/plain": [
       "float"
      ]
     },
     "execution_count": 21,
     "metadata": {},
     "output_type": "execute_result"
    }
   ],
   "source": [
    "b=1.1\n",
    "type(b)"
   ]
  },
  {
   "cell_type": "code",
   "execution_count": 22,
   "metadata": {},
   "outputs": [
    {
     "data": {
      "text/plain": [
       "str"
      ]
     },
     "execution_count": 22,
     "metadata": {},
     "output_type": "execute_result"
    }
   ],
   "source": [
    "c=\"1\"\n",
    "type(c)"
   ]
  },
  {
   "cell_type": "code",
   "execution_count": 23,
   "metadata": {},
   "outputs": [
    {
     "data": {
      "text/plain": [
       "bool"
      ]
     },
     "execution_count": 23,
     "metadata": {},
     "output_type": "execute_result"
    }
   ],
   "source": [
    "d=True\n",
    "type(d)"
   ]
  },
  {
   "cell_type": "markdown",
   "metadata": {},
   "source": [
    "### Type casting"
   ]
  },
  {
   "cell_type": "code",
   "execution_count": 37,
   "metadata": {},
   "outputs": [
    {
     "name": "stdout",
     "output_type": "stream",
     "text": [
      "3\n"
     ]
    }
   ],
   "source": [
    "#print(c + 2)\n",
    "print(int(c)+2)\n",
    "#pour additioner à un entier, python a besoin d'un entier ou d'un float."
   ]
  },
  {
   "cell_type": "code",
   "execution_count": 38,
   "metadata": {},
   "outputs": [
    {
     "name": "stdout",
     "output_type": "stream",
     "text": [
      "12\n"
     ]
    }
   ],
   "source": [
    "#print(a + \"2\")\n",
    "print(str(a)+\"2\")\n",
    "#Pour concaténer avec une chaine, Python a besoin d'une chaine"
   ]
  },
  {
   "cell_type": "markdown",
   "metadata": {},
   "source": [
    "### Tableau"
   ]
  },
  {
   "cell_type": "code",
   "execution_count": 46,
   "metadata": {},
   "outputs": [
    {
     "data": {
      "text/plain": [
       "(1, 5, 6)"
      ]
     },
     "execution_count": 46,
     "metadata": {},
     "output_type": "execute_result"
    }
   ],
   "source": [
    "tableau = (1,5,6)\n",
    "tableau"
   ]
  },
  {
   "cell_type": "code",
   "execution_count": 49,
   "metadata": {},
   "outputs": [
    {
     "data": {
      "text/plain": [
       "3"
      ]
     },
     "execution_count": 49,
     "metadata": {},
     "output_type": "execute_result"
    }
   ],
   "source": [
    "len(tableau)"
   ]
  },
  {
   "cell_type": "code",
   "execution_count": 52,
   "metadata": {},
   "outputs": [
    {
     "data": {
      "text/plain": [
       "6"
      ]
     },
     "execution_count": 52,
     "metadata": {},
     "output_type": "execute_result"
    }
   ],
   "source": [
    "tableau[2]"
   ]
  },
  {
   "cell_type": "markdown",
   "metadata": {},
   "source": [
    "### Listes"
   ]
  },
  {
   "cell_type": "code",
   "execution_count": 39,
   "metadata": {},
   "outputs": [
    {
     "data": {
      "text/plain": [
       "[1, 2, 'a', 'b']"
      ]
     },
     "execution_count": 39,
     "metadata": {},
     "output_type": "execute_result"
    }
   ],
   "source": [
    "une_liste = [1,2,\"a\", \"b\"]\n",
    "une_liste"
   ]
  },
  {
   "cell_type": "code",
   "execution_count": 40,
   "metadata": {},
   "outputs": [
    {
     "data": {
      "text/plain": [
       "2"
      ]
     },
     "execution_count": 40,
     "metadata": {},
     "output_type": "execute_result"
    }
   ],
   "source": [
    "# les indices de listes commencent à 0\n",
    "une_liste[1]"
   ]
  },
  {
   "cell_type": "code",
   "execution_count": 41,
   "metadata": {},
   "outputs": [
    {
     "data": {
      "text/plain": [
       "'b'"
      ]
     },
     "execution_count": 41,
     "metadata": {},
     "output_type": "execute_result"
    }
   ],
   "source": [
    "# dernier élement de la liste \n",
    "une_liste[-1]"
   ]
  },
  {
   "cell_type": "code",
   "execution_count": 42,
   "metadata": {},
   "outputs": [
    {
     "data": {
      "text/plain": [
       "[1, 2, 'a', 'b', 'z']"
      ]
     },
     "execution_count": 42,
     "metadata": {},
     "output_type": "execute_result"
    }
   ],
   "source": [
    "une_liste.append(\"z\")\n",
    "une_liste"
   ]
  },
  {
   "cell_type": "markdown",
   "metadata": {},
   "source": [
    "### List slicing\n",
    "Permet de selectionner une sous partie d'une liste, en spécifiant l'index de début et l'index de fin\n",
    "syntaxe : liste[début:fin]   ( fin non inclus )"
   ]
  },
  {
   "cell_type": "code",
   "execution_count": 53,
   "metadata": {},
   "outputs": [
    {
     "data": {
      "text/plain": [
       "['a', 'b']"
      ]
     },
     "execution_count": 53,
     "metadata": {},
     "output_type": "execute_result"
    }
   ],
   "source": [
    "une_liste[2:4]"
   ]
  },
  {
   "cell_type": "code",
   "execution_count": 54,
   "metadata": {},
   "outputs": [
    {
     "data": {
      "text/plain": [
       "['a', 'b', 'z']"
      ]
     },
     "execution_count": 54,
     "metadata": {},
     "output_type": "execute_result"
    }
   ],
   "source": [
    "une_liste[2:]"
   ]
  },
  {
   "cell_type": "code",
   "execution_count": 55,
   "metadata": {},
   "outputs": [
    {
     "data": {
      "text/plain": [
       "['a', 'b', 'z']"
      ]
     },
     "execution_count": 55,
     "metadata": {},
     "output_type": "execute_result"
    }
   ],
   "source": [
    "une_liste[2:]"
   ]
  },
  {
   "cell_type": "code",
   "execution_count": 56,
   "metadata": {},
   "outputs": [
    {
     "data": {
      "text/plain": [
       "['b', 'z']"
      ]
     },
     "execution_count": 56,
     "metadata": {},
     "output_type": "execute_result"
    }
   ],
   "source": [
    "une_liste[-2:]"
   ]
  },
  {
   "cell_type": "code",
   "execution_count": 57,
   "metadata": {},
   "outputs": [
    {
     "data": {
      "text/plain": [
       "[1, 2, 'a']"
      ]
     },
     "execution_count": 57,
     "metadata": {},
     "output_type": "execute_result"
    }
   ],
   "source": [
    "une_liste[:-2]"
   ]
  },
  {
   "cell_type": "markdown",
   "metadata": {},
   "source": [
    "\n",
    "## Pandas / Matplotlib : basic toolbox\n",
    "\n",
    "\n",
    "Pandas ajoute deux data structures aux structures fournies avec python ( list, dict, tuples, set) :\n",
    "\n",
    "- Series  : similaire à un dict avec des fonctiones aditionnelles\n",
    "- DataFrame : tableau à deux dimensions\n",
    "\n",
    "Matplotlib permet d'afficher les données sous forme graphique"
   ]
  },
  {
   "cell_type": "code",
   "execution_count": 58,
   "metadata": {},
   "outputs": [],
   "source": [
    "%matplotlib inline\n"
   ]
  },
  {
   "cell_type": "code",
   "execution_count": 59,
   "metadata": {},
   "outputs": [],
   "source": [
    "import numpy as np\n",
    "import pandas as pd\n",
    "import seaborn\n",
    "from pandas import Series, DataFrame\n",
    "import matplotlib.pyplot as plt"
   ]
  },
  {
   "cell_type": "code",
   "execution_count": 60,
   "metadata": {},
   "outputs": [
    {
     "data": {
      "text/plain": [
       "array([0, 1, 2, 3, 4, 5, 6, 7, 8, 9])"
      ]
     },
     "execution_count": 60,
     "metadata": {},
     "output_type": "execute_result"
    }
   ],
   "source": [
    "data=np.arange(10)\n",
    "data"
   ]
  },
  {
   "cell_type": "code",
   "execution_count": 61,
   "metadata": {},
   "outputs": [
    {
     "data": {
      "text/plain": [
       "[<matplotlib.lines.Line2D at 0x256c0fdefd0>]"
      ]
     },
     "execution_count": 61,
     "metadata": {},
     "output_type": "execute_result"
    },
    {
     "data": {
      "image/png": "[encoded data removed]",
      "text/plain": [
       "<Figure size 432x288 with 1 Axes>"
      ]
     },
     "metadata": {
      "needs_background": "light"
     },
     "output_type": "display_data"
    }
   ],
   "source": [
    "plt.plot(data)"
   ]
  },
  {
   "cell_type": "code",
   "execution_count": 68,
   "metadata": {},
   "outputs": [
    {
     "data": {
      "text/plain": [
       "<matplotlib.collections.PathCollection at 0x256bba29850>"
      ]
     },
     "execution_count": 68,
     "metadata": {},
     "output_type": "execute_result"
    },
    {
     "data": {
      "image/png": "[encoded data removed]",
      "text/plain": [
       "<Figure size 432x288 with 1 Axes>"
      ]
     },
     "metadata": {
      "needs_background": "light"
     },
     "output_type": "display_data"
    }
   ],
   "source": [
    "plt.scatter(np.arange(30),np.arange(30) + 3 * np.random.randn(30))"
   ]
  },
  {
   "cell_type": "code",
   "execution_count": 65,
   "metadata": {},
   "outputs": [
    {
     "data": {
      "text/plain": [
       "array([ 0,  1,  2,  3,  4,  5,  6,  7,  8,  9, 10, 11, 12, 13, 14, 15, 16,\n",
       "       17, 18, 19, 20, 21, 22, 23, 24, 25, 26, 27, 28, 29])"
      ]
     },
     "execution_count": 65,
     "metadata": {},
     "output_type": "execute_result"
    }
   ],
   "source": [
    "np.arange(30)"
   ]
  },
  {
   "cell_type": "code",
   "execution_count": 66,
   "metadata": {},
   "outputs": [
    {
     "data": {
      "text/plain": [
       "array([ 0.06442656,  0.84268264, -2.27812309,  0.11374278,  1.45260243,\n",
       "       -0.75959646, -0.56127085,  0.08128882, -0.52990976, -0.1805245 ,\n",
       "       -1.6763013 ,  0.92792832,  0.54579002,  0.29328103, -0.25595515,\n",
       "        1.77354027,  0.75233176, -1.73760881, -1.1275394 ,  0.82884159,\n",
       "       -0.09320262,  2.00787195,  0.45819941, -1.57843059,  1.9648896 ,\n",
       "       -0.16861772, -0.70696735, -1.75873445, -1.07482474, -0.23362575])"
      ]
     },
     "execution_count": 66,
     "metadata": {},
     "output_type": "execute_result"
    }
   ],
   "source": [
    "np.random.randn(30)"
   ]
  },
  {
   "cell_type": "code",
   "execution_count": 67,
   "metadata": {},
   "outputs": [
    {
     "data": {
      "text/plain": [
       "array([ 3.74033121,  2.39897072, -1.47478764,  2.45707767,  2.27673249,\n",
       "       -5.23550617,  0.49157139,  8.00525007,  3.40689133, -1.16656905,\n",
       "        5.37130696, -6.52458188,  1.68574002,  1.10942513, -3.67968925,\n",
       "        1.77005737,  2.53485813, -0.7848819 , -7.71340486,  2.42386036,\n",
       "       -1.88504166, -1.75692996,  2.14750279,  1.84339733, -0.82832162,\n",
       "        4.48413011, -2.31410398,  4.77320518, -0.44231221,  2.06308208])"
      ]
     },
     "execution_count": 67,
     "metadata": {},
     "output_type": "execute_result"
    }
   ],
   "source": [
    "3 * np.random.randn(30)"
   ]
  },
  {
   "cell_type": "code",
   "execution_count": 63,
   "metadata": {},
   "outputs": [
    {
     "data": {
      "text/plain": [
       "(array([6., 2., 7., 6., 3., 3., 1., 1., 0., 1.]),\n",
       " array([-1.33672047, -0.92317294, -0.50962542, -0.0960779 ,  0.31746963,\n",
       "         0.73101715,  1.14456467,  1.5581122 ,  1.97165972,  2.38520725,\n",
       "         2.79875477]),\n",
       " <a list of 10 Patch objects>)"
      ]
     },
     "execution_count": 63,
     "metadata": {},
     "output_type": "execute_result"
    },
    {
     "data": {
      "image/png": "[encoded data removed]",
      "text/plain": [
       "<Figure size 432x288 with 1 Axes>"
      ]
     },
     "metadata": {
      "needs_background": "light"
     },
     "output_type": "display_data"
    }
   ],
   "source": [
    "plt.hist(np.random.randn(30), bins=10, color='k', alpha=0.3)"
   ]
  },
  {
   "cell_type": "markdown",
   "metadata": {},
   "source": [
    "### Récupération du dataset : fichier INSEE prenoms\n",
    "\n",
    "Taper sur google : insee fichier prenoms\n",
    "\n",
    "Telecharger dans le dossier du notebook le fichier par département avec wget ou votre navigateur.\n",
    "\n",
    "( Pandas permet aussi de charger un fichier directement depuis une url )\n",
    "\n",
    "[INSEE Fichier des prénoms 1900 et 2019](https://www.insee.fr/fr/statistiques/2540004?sommaire=4767262)\n",
    "\n",
    "---\n",
    "## EXERCICE 1\n",
    "\n",
    "**Ouvrez le fichier et lisez la doc pour bien comprendre le dataset, trouvez 5 questions à poser, 5 graphiques à afficher.**\n",
    "\n",
    "Télécharger le fichier et l'importer dans le workspace dans un dossier /datasets\n",
    "\n",
    "**Remarque :** Saut de ligne en Markdown\n",
    "\n",
    "< br > sans espace entre les <>\n",
    "\n",
    "---"
   ]
  },
  {
   "cell_type": "code",
   "execution_count": null,
   "metadata": {},
   "outputs": [],
   "source": [
    "prenoms= pd.read_csv(\"datasets/prenoms_fr_1900_2018_insee.csv\",sep=\";\")"
   ]
  },
  {
   "cell_type": "code",
   "execution_count": null,
   "metadata": {},
   "outputs": [],
   "source": [
    "prenoms"
   ]
  },
  {
   "cell_type": "markdown",
   "metadata": {},
   "source": [
    "### Analyse rapide de la structure"
   ]
  },
  {
   "cell_type": "markdown",
   "metadata": {},
   "source": []
  },
  {
   "cell_type": "code",
   "execution_count": null,
   "metadata": {},
   "outputs": [],
   "source": []
  },
  {
   "cell_type": "code",
   "execution_count": null,
   "metadata": {},
   "outputs": [],
   "source": []
  },
  {
   "cell_type": "code",
   "execution_count": null,
   "metadata": {},
   "outputs": [],
   "source": []
  },
  {
   "cell_type": "code",
   "execution_count": null,
   "metadata": {},
   "outputs": [],
   "source": []
  }
 ],
 "metadata": {
  "kernelspec": {
   "display_name": "Python 3",
   "language": "python",
   "name": "python3"
  },
  "language_info": {
   "codemirror_mode": {
    "name": "ipython",
    "version": 3
   },
   "file_extension": ".py",
   "mimetype": "text/x-python",
   "name": "python",
   "nbconvert_exporter": "python",
   "pygments_lexer": "ipython3",
   "version": "3.8.3"
  }
 },
 "nbformat": 4,
 "nbformat_minor": 4
}
