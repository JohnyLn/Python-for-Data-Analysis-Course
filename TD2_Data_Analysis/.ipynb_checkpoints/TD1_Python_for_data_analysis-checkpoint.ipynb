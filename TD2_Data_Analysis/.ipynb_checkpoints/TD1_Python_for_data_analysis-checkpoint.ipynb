{
 "cells": [
  {
   "cell_type": "markdown",
   "metadata": {},
   "source": [
    "# Python for Data Analysis TD1\n",
    "\n",
    "## Course de Romain Jouin \n",
    "[GitHub de la formation Romain Jouin](https://github.com/romainjouin/formation_python)\n",
    "\n",
    "[Anti-sèche Markdown - L'essentiel](https://www.christopheducamp.com/2014/09/18/love-markdown/)\n",
    "\n",
    "\n",
    "### Introduction Python ?\n",
    "\n",
    "\n",
    "Python est un langage:\n",
    "- Interpreté (= compilé à chaque lancement)\n",
    "- Agréable à écrire et a lire car aéré et indenté : Sauts de lignes et indentations remplaçent points virgules et accolades\n",
    "- Orienté objet mais pouvant être écrit de façon procédurale.\n",
    "- Equipé d'une multitude de librairies développées par des tiers, et particulièrement bien équipé pour le domaine qui nous intéresse. \n",
    "\n",
    "\n",
    "### Data ?\n",
    "\n",
    "- fichier(s) excel \n",
    "- fichier(s) tabulées , csv\n",
    "- fichier(s) texte\n",
    "- fichier(s) json\n",
    "- image(s)\n",
    "- autre type de fichier à analyser pour en comprendre la structure et extraire la donnée brute : page web ( webscraping)\n",
    "- ...\n",
    "\n",
    "- un mélange des précédents formats, généralement reliées par un identifiant permettant l'alignement des donées ( database join ). par ex fichier csv  ville /année / temperature, fichier csv  ville / age moyen \n",
    "\n",
    "\n",
    "\n",
    "Sources des données : \n",
    "- open data d'etat\n",
    "- privée, fournie par une entreprise\n",
    "- enregistrée personnellement ( historique temperature de votre salon)\n",
    "- collectée et publiée par un tiers : kaggle ..\n",
    "- ...\n",
    "\n",
    "\n",
    "exemples de dataset ?\n",
    "\n",
    "\n",
    "### Analysis ?\n",
    "\n",
    "\"Faire parler\" les donnée brutes\n",
    "\n",
    "Leur faire dire des choses difficiles ou impossible à déduire en les lisant linéairement. \n",
    "\n",
    "Afficher graphiquement pour réveler le sens.\n",
    "\n",
    "Prédire a partir d'un historique d'éléments associés ( photo / nom de personne, photo / nom de vetement, photo / \"y'a il un piéton ou nom ?\" , évènements client / rupture d'abonnement ou non, etc...\n",
    "\n",
    "\n",
    "# Les outils. installation et prise en main.\n",
    "\n",
    "\n",
    "## Python\n",
    "\n",
    "Nous allons utiliser la version 3 pour maximiser la compatibilité avec la dernière version des librairies.\n",
    "\n",
    "Vérifiez d'abord quelle version est installée sur votre système :"
   ]
  },
  {
   "cell_type": "code",
   "execution_count": null,
   "metadata": {
    "scrolled": true
   },
   "outputs": [],
   "source": [
    "#Dans le cas si on est sur Linux ou MacOS\n",
    "#!python\n",
    "#https://jakevdp.github.io/blog/2017/12/05/installing-python-packages-from-jupyter/\n"
   ]
  },
  {
   "cell_type": "markdown",
   "metadata": {},
   "source": [
    "## Prise en main de Python avec Jupyter"
   ]
  },
  {
   "cell_type": "code",
   "execution_count": null,
   "metadata": {},
   "outputs": [],
   "source": [
    "print(\"hello\")"
   ]
  },
  {
   "cell_type": "code",
   "execution_count": null,
   "metadata": {},
   "outputs": [],
   "source": []
  },
  {
   "cell_type": "code",
   "execution_count": null,
   "metadata": {},
   "outputs": [],
   "source": []
  },
  {
   "cell_type": "code",
   "execution_count": null,
   "metadata": {},
   "outputs": [],
   "source": []
  },
  {
   "cell_type": "code",
   "execution_count": null,
   "metadata": {},
   "outputs": [],
   "source": []
  },
  {
   "cell_type": "code",
   "execution_count": null,
   "metadata": {},
   "outputs": [],
   "source": []
  },
  {
   "cell_type": "code",
   "execution_count": null,
   "metadata": {},
   "outputs": [],
   "source": []
  },
  {
   "cell_type": "code",
   "execution_count": null,
   "metadata": {},
   "outputs": [],
   "source": []
  },
  {
   "cell_type": "code",
   "execution_count": null,
   "metadata": {},
   "outputs": [],
   "source": []
  },
  {
   "cell_type": "code",
   "execution_count": null,
   "metadata": {},
   "outputs": [],
   "source": []
  }
 ],
 "metadata": {
  "kernelspec": {
   "display_name": "Python 3",
   "language": "python",
   "name": "python3"
  },
  "language_info": {
   "codemirror_mode": {
    "name": "ipython",
    "version": 3
   },
   "file_extension": ".py",
   "mimetype": "text/x-python",
   "name": "python",
   "nbconvert_exporter": "python",
   "pygments_lexer": "ipython3",
   "version": "3.8.3"
  }
 },
 "nbformat": 4,
 "nbformat_minor": 4
}
