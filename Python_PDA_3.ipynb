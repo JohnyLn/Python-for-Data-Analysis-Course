{
 "cells": [
  {
   "cell_type": "code",
   "execution_count": 46,
   "metadata": {
    "colab": {
     "base_uri": "https://localhost:8080/"
    },
    "id": "SB2TlSCvyveq",
    "outputId": "fdc620e7-ddd2-4293-ca00-bb0a4df267b6"
   },
   "outputs": [
    {
     "name": "stdout",
     "output_type": "stream",
     "text": [
      "Requirement already satisfied: geopandas in /usr/local/lib/python3.6/dist-packages (0.8.1)\n",
      "Requirement already satisfied: pyproj>=2.2.0 in /usr/local/lib/python3.6/dist-packages (from geopandas) (3.0.0.post1)\n",
      "Requirement already satisfied: fiona in /usr/local/lib/python3.6/dist-packages (from geopandas) (1.8.17)\n",
      "Requirement already satisfied: pandas>=0.23.0 in /usr/local/lib/python3.6/dist-packages (from geopandas) (1.1.4)\n",
      "Requirement already satisfied: shapely in /usr/local/lib/python3.6/dist-packages (from geopandas) (1.7.1)\n",
      "Requirement already satisfied: certifi in /usr/local/lib/python3.6/dist-packages (from pyproj>=2.2.0->geopandas) (2020.6.20)\n",
      "Requirement already satisfied: cligj>=0.5 in /usr/local/lib/python3.6/dist-packages (from fiona->geopandas) (0.7.0)\n",
      "Requirement already satisfied: munch in /usr/local/lib/python3.6/dist-packages (from fiona->geopandas) (2.5.0)\n",
      "Requirement already satisfied: attrs>=17 in /usr/local/lib/python3.6/dist-packages (from fiona->geopandas) (20.2.0)\n",
      "Requirement already satisfied: six>=1.7 in /usr/local/lib/python3.6/dist-packages (from fiona->geopandas) (1.15.0)\n",
      "Requirement already satisfied: click<8,>=4.0 in /usr/local/lib/python3.6/dist-packages (from fiona->geopandas) (7.1.2)\n",
      "Requirement already satisfied: click-plugins>=1.0 in /usr/local/lib/python3.6/dist-packages (from fiona->geopandas) (1.1.1)\n",
      "Requirement already satisfied: pytz>=2017.2 in /usr/local/lib/python3.6/dist-packages (from pandas>=0.23.0->geopandas) (2018.9)\n",
      "Requirement already satisfied: numpy>=1.15.4 in /usr/local/lib/python3.6/dist-packages (from pandas>=0.23.0->geopandas) (1.18.5)\n",
      "Requirement already satisfied: python-dateutil>=2.7.3 in /usr/local/lib/python3.6/dist-packages (from pandas>=0.23.0->geopandas) (2.8.1)\n"
     ]
    }
   ],
   "source": [
    "pip install geopandas"
   ]
  },
  {
   "cell_type": "markdown",
   "metadata": {
    "id": "1JS-0nMjzzuy"
   },
   "source": [
    "#GIS BOUNDARIES FRENCH DEPARTments\n",
    "#issu d'open streetmap \n",
    "vérifier à 50m\n",
    "https://www.data.gouv.fr/fr/datasets/r/6e53bca5-1153-49d4-bff5-dd69f39369b5\n",
    "ça donne un zip dans un dossier avec dans le dossier jupither note book ensemble\n"
   ]
  },
  {
   "cell_type": "code",
   "execution_count": 18,
   "metadata": {
    "id": "OkDLuwiKz4v1"
   },
   "outputs": [],
   "source": [
    "import geopandas as gpd"
   ]
  },
  {
   "cell_type": "code",
   "execution_count": 26,
   "metadata": {
    "colab": {
     "base_uri": "https://localhost:8080/",
     "height": 194
    },
    "id": "Ciu1ZOYM0B6I",
    "outputId": "82bae36b-605d-44f4-c00a-8a540d4c4a49"
   },
   "outputs": [
    {
     "data": {
      "text/html": [
       "<div>\n",
       "<style scoped>\n",
       "    .dataframe tbody tr th:only-of-type {\n",
       "        vertical-align: middle;\n",
       "    }\n",
       "\n",
       "    .dataframe tbody tr th {\n",
       "        vertical-align: top;\n",
       "    }\n",
       "\n",
       "    .dataframe thead th {\n",
       "        text-align: right;\n",
       "    }\n",
       "</style>\n",
       "<table border=\"1\" class=\"dataframe\">\n",
       "  <thead>\n",
       "    <tr style=\"text-align: right;\">\n",
       "      <th></th>\n",
       "      <th>code_insee</th>\n",
       "      <th>nom</th>\n",
       "      <th>nuts3</th>\n",
       "      <th>wikipedia</th>\n",
       "      <th>geometry</th>\n",
       "    </tr>\n",
       "  </thead>\n",
       "  <tbody>\n",
       "    <tr>\n",
       "      <th>0</th>\n",
       "      <td>01</td>\n",
       "      <td>Ain</td>\n",
       "      <td>FR711</td>\n",
       "      <td>b'fr:Ain (d\\xe9partement)'</td>\n",
       "      <td>POLYGON ((5.25559 45.78459, 5.23987 45.77758, ...</td>\n",
       "    </tr>\n",
       "    <tr>\n",
       "      <th>1</th>\n",
       "      <td>02</td>\n",
       "      <td>Aisne</td>\n",
       "      <td>FR221</td>\n",
       "      <td>b'fr:Aisne (d\\xe9partement)'</td>\n",
       "      <td>POLYGON ((3.48175 48.86640, 3.48647 48.85768, ...</td>\n",
       "    </tr>\n",
       "    <tr>\n",
       "      <th>2</th>\n",
       "      <td>03</td>\n",
       "      <td>Allier</td>\n",
       "      <td>FR721</td>\n",
       "      <td>b'fr:Allier (d\\xe9partement)'</td>\n",
       "      <td>POLYGON ((2.38613 46.33196, 2.38407 46.33112, ...</td>\n",
       "    </tr>\n",
       "    <tr>\n",
       "      <th>3</th>\n",
       "      <td>04</td>\n",
       "      <td>Alpes-de-Haute-Provence</td>\n",
       "      <td>FR821</td>\n",
       "      <td>fr:Alpes-de-Haute-Provence</td>\n",
       "      <td>POLYGON ((6.66579 43.83120, 6.67673 43.83178, ...</td>\n",
       "    </tr>\n",
       "    <tr>\n",
       "      <th>4</th>\n",
       "      <td>05</td>\n",
       "      <td>Hautes-Alpes</td>\n",
       "      <td>FR822</td>\n",
       "      <td>fr:Hautes-Alpes</td>\n",
       "      <td>POLYGON ((6.24158 44.44686, 6.24411 44.44693, ...</td>\n",
       "    </tr>\n",
       "  </tbody>\n",
       "</table>\n",
       "</div>"
      ],
      "text/plain": [
       "  code_insee  ...                                           geometry\n",
       "0         01  ...  POLYGON ((5.25559 45.78459, 5.23987 45.77758, ...\n",
       "1         02  ...  POLYGON ((3.48175 48.86640, 3.48647 48.85768, ...\n",
       "2         03  ...  POLYGON ((2.38613 46.33196, 2.38407 46.33112, ...\n",
       "3         04  ...  POLYGON ((6.66579 43.83120, 6.67673 43.83178, ...\n",
       "4         05  ...  POLYGON ((6.24158 44.44686, 6.24411 44.44693, ...\n",
       "\n",
       "[5 rows x 5 columns]"
      ]
     },
     "execution_count": 26,
     "metadata": {
      "tags": []
     },
     "output_type": "execute_result"
    }
   ],
   "source": [
    "map_df = gpd.read_file(\"departements-20140306-50m-shp/departements-20140306-50m.shp\")\n",
    "map_df.head()"
   ]
  },
  {
   "cell_type": "code",
   "execution_count": null,
   "metadata": {
    "colab": {
     "base_uri": "https://localhost:8080/",
     "height": 279
    },
    "id": "f04ILmOE0KIG",
    "outputId": "170ed3bd-8191-45c2-dce5-ff5e444a781e"
   },
   "outputs": [
    {
     "data": {
      "text/plain": [
       "<matplotlib.axes._subplots.AxesSubplot at 0x7f6764939358>"
      ]
     },
     "execution_count": 7,
     "metadata": {
      "tags": []
     },
     "output_type": "execute_result"
    },
    {
     "data": {
      "image/png": "[encoded data removed]",
      "text/plain": [
       "<Figure size 432x288 with 1 Axes>"
      ]
     },
     "metadata": {
      "needs_background": "light",
      "tags": []
     },
     "output_type": "display_data"
    }
   ],
   "source": [
    "import matplotlib as plt\n",
    "%matplotlib inline\n",
    "map_df.plot()"
   ]
  },
  {
   "cell_type": "code",
   "execution_count": 27,
   "metadata": {
    "colab": {
     "base_uri": "https://localhost:8080/"
    },
    "id": "q0QkflBR1K5t",
    "outputId": "685fa90f-2b46-4f94-e333-a3d70330f8a7"
   },
   "outputs": [
    {
     "name": "stdout",
     "output_type": "stream",
     "text": [
      "Requirement already satisfied: descartes in /usr/local/lib/python3.6/dist-packages (1.1.0)\n",
      "Requirement already satisfied: matplotlib in /usr/local/lib/python3.6/dist-packages (from descartes) (3.2.2)\n",
      "Requirement already satisfied: kiwisolver>=1.0.1 in /usr/local/lib/python3.6/dist-packages (from matplotlib->descartes) (1.3.1)\n",
      "Requirement already satisfied: numpy>=1.11 in /usr/local/lib/python3.6/dist-packages (from matplotlib->descartes) (1.18.5)\n",
      "Requirement already satisfied: cycler>=0.10 in /usr/local/lib/python3.6/dist-packages (from matplotlib->descartes) (0.10.0)\n",
      "Requirement already satisfied: pyparsing!=2.0.4,!=2.1.2,!=2.1.6,>=2.0.1 in /usr/local/lib/python3.6/dist-packages (from matplotlib->descartes) (2.4.7)\n",
      "Requirement already satisfied: python-dateutil>=2.1 in /usr/local/lib/python3.6/dist-packages (from matplotlib->descartes) (2.8.1)\n",
      "Requirement already satisfied: six in /usr/local/lib/python3.6/dist-packages (from cycler>=0.10->matplotlib->descartes) (1.15.0)\n"
     ]
    }
   ],
   "source": [
    "pip install descartes"
   ]
  },
  {
   "cell_type": "code",
   "execution_count": 28,
   "metadata": {
    "colab": {
     "base_uri": "https://localhost:8080/",
     "height": 194
    },
    "id": "lxcGIPrH2f_f",
    "outputId": "8acdcf68-566f-4dc2-9392-dc6cd69d4ff9"
   },
   "outputs": [
    {
     "data": {
      "text/html": [
       "<div>\n",
       "<style scoped>\n",
       "    .dataframe tbody tr th:only-of-type {\n",
       "        vertical-align: middle;\n",
       "    }\n",
       "\n",
       "    .dataframe tbody tr th {\n",
       "        vertical-align: top;\n",
       "    }\n",
       "\n",
       "    .dataframe thead th {\n",
       "        text-align: right;\n",
       "    }\n",
       "</style>\n",
       "<table border=\"1\" class=\"dataframe\">\n",
       "  <thead>\n",
       "    <tr style=\"text-align: right;\">\n",
       "      <th></th>\n",
       "      <th>code_insee</th>\n",
       "      <th>nom</th>\n",
       "      <th>nuts3</th>\n",
       "      <th>wikipedia</th>\n",
       "      <th>geometry</th>\n",
       "    </tr>\n",
       "  </thead>\n",
       "  <tbody>\n",
       "    <tr>\n",
       "      <th>0</th>\n",
       "      <td>01</td>\n",
       "      <td>Ain</td>\n",
       "      <td>FR711</td>\n",
       "      <td>b'fr:Ain (d\\xe9partement)'</td>\n",
       "      <td>POLYGON ((5.25559 45.78459, 5.23987 45.77758, ...</td>\n",
       "    </tr>\n",
       "    <tr>\n",
       "      <th>1</th>\n",
       "      <td>02</td>\n",
       "      <td>Aisne</td>\n",
       "      <td>FR221</td>\n",
       "      <td>b'fr:Aisne (d\\xe9partement)'</td>\n",
       "      <td>POLYGON ((3.48175 48.86640, 3.48647 48.85768, ...</td>\n",
       "    </tr>\n",
       "    <tr>\n",
       "      <th>2</th>\n",
       "      <td>03</td>\n",
       "      <td>Allier</td>\n",
       "      <td>FR721</td>\n",
       "      <td>b'fr:Allier (d\\xe9partement)'</td>\n",
       "      <td>POLYGON ((2.38613 46.33196, 2.38407 46.33112, ...</td>\n",
       "    </tr>\n",
       "    <tr>\n",
       "      <th>3</th>\n",
       "      <td>04</td>\n",
       "      <td>Alpes-de-Haute-Provence</td>\n",
       "      <td>FR821</td>\n",
       "      <td>fr:Alpes-de-Haute-Provence</td>\n",
       "      <td>POLYGON ((6.66579 43.83120, 6.67673 43.83178, ...</td>\n",
       "    </tr>\n",
       "    <tr>\n",
       "      <th>4</th>\n",
       "      <td>05</td>\n",
       "      <td>Hautes-Alpes</td>\n",
       "      <td>FR822</td>\n",
       "      <td>fr:Hautes-Alpes</td>\n",
       "      <td>POLYGON ((6.24158 44.44686, 6.24411 44.44693, ...</td>\n",
       "    </tr>\n",
       "  </tbody>\n",
       "</table>\n",
       "</div>"
      ],
      "text/plain": [
       "  code_insee  ...                                           geometry\n",
       "0         01  ...  POLYGON ((5.25559 45.78459, 5.23987 45.77758, ...\n",
       "1         02  ...  POLYGON ((3.48175 48.86640, 3.48647 48.85768, ...\n",
       "2         03  ...  POLYGON ((2.38613 46.33196, 2.38407 46.33112, ...\n",
       "3         04  ...  POLYGON ((6.66579 43.83120, 6.67673 43.83178, ...\n",
       "4         05  ...  POLYGON ((6.24158 44.44686, 6.24411 44.44693, ...\n",
       "\n",
       "[5 rows x 5 columns]"
      ]
     },
     "execution_count": 28,
     "metadata": {
      "tags": []
     },
     "output_type": "execute_result"
    }
   ],
   "source": [
    "map_df.head()\n",
    "#pour retirer les dom tom -> on voit qu'ils possède 3 chiffres sur le code INSEE\n",
    "#on utilise les expressions regulieres ->regex -> reperer des parterns dans du texte"
   ]
  },
  {
   "cell_type": "code",
   "execution_count": 29,
   "metadata": {
    "colab": {
     "base_uri": "https://localhost:8080/",
     "height": 194
    },
    "id": "pw0xOEgq2pGQ",
    "outputId": "45b0838a-83e5-42c4-ee88-80745afc6842"
   },
   "outputs": [
    {
     "data": {
      "text/html": [
       "<div>\n",
       "<style scoped>\n",
       "    .dataframe tbody tr th:only-of-type {\n",
       "        vertical-align: middle;\n",
       "    }\n",
       "\n",
       "    .dataframe tbody tr th {\n",
       "        vertical-align: top;\n",
       "    }\n",
       "\n",
       "    .dataframe thead th {\n",
       "        text-align: right;\n",
       "    }\n",
       "</style>\n",
       "<table border=\"1\" class=\"dataframe\">\n",
       "  <thead>\n",
       "    <tr style=\"text-align: right;\">\n",
       "      <th></th>\n",
       "      <th>code_insee</th>\n",
       "      <th>nom</th>\n",
       "      <th>nuts3</th>\n",
       "      <th>wikipedia</th>\n",
       "      <th>geometry</th>\n",
       "    </tr>\n",
       "  </thead>\n",
       "  <tbody>\n",
       "    <tr>\n",
       "      <th>96</th>\n",
       "      <td>971</td>\n",
       "      <td>Guadeloupe</td>\n",
       "      <td>FR910</td>\n",
       "      <td>fr:Guadeloupe</td>\n",
       "      <td>MULTIPOLYGON (((-61.61403 15.83955, -61.61399 ...</td>\n",
       "    </tr>\n",
       "    <tr>\n",
       "      <th>97</th>\n",
       "      <td>972</td>\n",
       "      <td>Martinique</td>\n",
       "      <td>FR920</td>\n",
       "      <td>fr:Martinique</td>\n",
       "      <td>MULTIPOLYGON (((-60.86880 14.39091, -60.86747 ...</td>\n",
       "    </tr>\n",
       "    <tr>\n",
       "      <th>98</th>\n",
       "      <td>973</td>\n",
       "      <td>Guyane</td>\n",
       "      <td>FR930</td>\n",
       "      <td>fr:Guyane</td>\n",
       "      <td>MULTIPOLYGON (((-52.58463 5.28309, -52.58316 5...</td>\n",
       "    </tr>\n",
       "    <tr>\n",
       "      <th>99</th>\n",
       "      <td>974</td>\n",
       "      <td>b'La R\\xe9union'</td>\n",
       "      <td>FR940</td>\n",
       "      <td>b'fr:La R\\xe9union'</td>\n",
       "      <td>MULTIPOLYGON (((55.77886 -21.36291, 55.77889 -...</td>\n",
       "    </tr>\n",
       "    <tr>\n",
       "      <th>100</th>\n",
       "      <td>976</td>\n",
       "      <td>Mayotte</td>\n",
       "      <td>None</td>\n",
       "      <td>fr:Mayotte</td>\n",
       "      <td>MULTIPOLYGON (((45.13667 -13.00398, 45.13859 -...</td>\n",
       "    </tr>\n",
       "  </tbody>\n",
       "</table>\n",
       "</div>"
      ],
      "text/plain": [
       "    code_insee  ...                                           geometry\n",
       "96         971  ...  MULTIPOLYGON (((-61.61403 15.83955, -61.61399 ...\n",
       "97         972  ...  MULTIPOLYGON (((-60.86880 14.39091, -60.86747 ...\n",
       "98         973  ...  MULTIPOLYGON (((-52.58463 5.28309, -52.58316 5...\n",
       "99         974  ...  MULTIPOLYGON (((55.77886 -21.36291, 55.77889 -...\n",
       "100        976  ...  MULTIPOLYGON (((45.13667 -13.00398, 45.13859 -...\n",
       "\n",
       "[5 rows x 5 columns]"
      ]
     },
     "execution_count": 29,
     "metadata": {
      "tags": []
     },
     "output_type": "execute_result"
    }
   ],
   "source": [
    "#un \\d est un digit -> un chiffre en 0 et 9\n",
    "\n",
    "map_df[map_df.code_insee.str.contains(\"\\d\\d\\d\")]"
   ]
  },
  {
   "cell_type": "code",
   "execution_count": 31,
   "metadata": {
    "id": "aEAVXiPy3TJh"
   },
   "outputs": [],
   "source": [
    "map_df = map_df[map\n",
    "_df.code_insee.str.contains(\"\\d\\d\\d\")==False]"
   ]
  },
  {
   "cell_type": "code",
   "execution_count": 32,
   "metadata": {
    "colab": {
     "base_uri": "https://localhost:8080/",
     "height": 283
    },
    "id": "j6iAxGXR3tu-",
    "outputId": "195e84f1-129a-40f2-b4db-0e3ec1822343"
   },
   "outputs": [
    {
     "data": {
      "text/plain": [
       "<matplotlib.axes._subplots.AxesSubplot at 0x7fcba041c080>"
      ]
     },
     "execution_count": 32,
     "metadata": {
      "tags": []
     },
     "output_type": "execute_result"
    },
    {
     "data": {
      "image/png": "[encoded data removed]",
      "text/plain": [
       "<Figure size 432x288 with 1 Axes>"
      ]
     },
     "metadata": {
      "needs_background": "light",
      "tags": []
     },
     "output_type": "display_data"
    }
   ],
   "source": [
    "map_df.plot()"
   ]
  },
  {
   "cell_type": "code",
   "execution_count": 33,
   "metadata": {
    "id": "EVXtn6Iw3xgD"
   },
   "outputs": [],
   "source": [
    "## YOU MUST KNOW REGEXPS\n",
    "# REGEXP SYNTAX https://www.w3schools.com/python/python_regex.asp\n",
    "# Pandas contains :\n",
    "\n",
    "#Commentaire de Simon\n",
    "#map_df[~map_df.code_insee.str.contains(\"\\d\\d\\d\")]\n",
    "#mettre un ~marche aussi -> ça fait l'inverse -> \n",
    "\n",
    "#prendre le fichier par département de naissance\n",
    "#https://www.insee.fr/fr/statistiques/fichier/2540004/dpt2019_csv.zip\n",
    "\n",
    "\n",
    "import pandas as pd\n"
   ]
  },
  {
   "cell_type": "code",
   "execution_count": 34,
   "metadata": {
    "id": "L6DumPuj4tul"
   },
   "outputs": [],
   "source": [
    "prenoms = pd.read_csv(\"dataset/dpt2019.csv\",sep = \";\")"
   ]
  },
  {
   "cell_type": "code",
   "execution_count": 35,
   "metadata": {
    "colab": {
     "base_uri": "https://localhost:8080/",
     "height": 399
    },
    "id": "gCukrvYn5B06",
    "outputId": "2c230fdd-a824-4b07-ff9f-fd324ac5e9ba"
   },
   "outputs": [
    {
     "data": {
      "text/html": [
       "<div>\n",
       "<style scoped>\n",
       "    .dataframe tbody tr th:only-of-type {\n",
       "        vertical-align: middle;\n",
       "    }\n",
       "\n",
       "    .dataframe tbody tr th {\n",
       "        vertical-align: top;\n",
       "    }\n",
       "\n",
       "    .dataframe thead th {\n",
       "        text-align: right;\n",
       "    }\n",
       "</style>\n",
       "<table border=\"1\" class=\"dataframe\">\n",
       "  <thead>\n",
       "    <tr style=\"text-align: right;\">\n",
       "      <th></th>\n",
       "      <th>sexe</th>\n",
       "      <th>preusuel</th>\n",
       "      <th>annais</th>\n",
       "      <th>dpt</th>\n",
       "      <th>nombre</th>\n",
       "    </tr>\n",
       "  </thead>\n",
       "  <tbody>\n",
       "    <tr>\n",
       "      <th>0</th>\n",
       "      <td>1</td>\n",
       "      <td>_PRENOMS_RARES</td>\n",
       "      <td>1900</td>\n",
       "      <td>02</td>\n",
       "      <td>7</td>\n",
       "    </tr>\n",
       "    <tr>\n",
       "      <th>1</th>\n",
       "      <td>1</td>\n",
       "      <td>_PRENOMS_RARES</td>\n",
       "      <td>1900</td>\n",
       "      <td>04</td>\n",
       "      <td>9</td>\n",
       "    </tr>\n",
       "    <tr>\n",
       "      <th>2</th>\n",
       "      <td>1</td>\n",
       "      <td>_PRENOMS_RARES</td>\n",
       "      <td>1900</td>\n",
       "      <td>05</td>\n",
       "      <td>8</td>\n",
       "    </tr>\n",
       "    <tr>\n",
       "      <th>3</th>\n",
       "      <td>1</td>\n",
       "      <td>_PRENOMS_RARES</td>\n",
       "      <td>1900</td>\n",
       "      <td>06</td>\n",
       "      <td>23</td>\n",
       "    </tr>\n",
       "    <tr>\n",
       "      <th>4</th>\n",
       "      <td>1</td>\n",
       "      <td>_PRENOMS_RARES</td>\n",
       "      <td>1900</td>\n",
       "      <td>07</td>\n",
       "      <td>9</td>\n",
       "    </tr>\n",
       "    <tr>\n",
       "      <th>...</th>\n",
       "      <td>...</td>\n",
       "      <td>...</td>\n",
       "      <td>...</td>\n",
       "      <td>...</td>\n",
       "      <td>...</td>\n",
       "    </tr>\n",
       "    <tr>\n",
       "      <th>3676677</th>\n",
       "      <td>2</td>\n",
       "      <td>ZYA</td>\n",
       "      <td>2018</td>\n",
       "      <td>59</td>\n",
       "      <td>3</td>\n",
       "    </tr>\n",
       "    <tr>\n",
       "      <th>3676678</th>\n",
       "      <td>2</td>\n",
       "      <td>ZYA</td>\n",
       "      <td>XXXX</td>\n",
       "      <td>XX</td>\n",
       "      <td>252</td>\n",
       "    </tr>\n",
       "    <tr>\n",
       "      <th>3676679</th>\n",
       "      <td>2</td>\n",
       "      <td>ZYNA</td>\n",
       "      <td>2013</td>\n",
       "      <td>93</td>\n",
       "      <td>3</td>\n",
       "    </tr>\n",
       "    <tr>\n",
       "      <th>3676680</th>\n",
       "      <td>2</td>\n",
       "      <td>ZYNA</td>\n",
       "      <td>XXXX</td>\n",
       "      <td>XX</td>\n",
       "      <td>54</td>\n",
       "    </tr>\n",
       "    <tr>\n",
       "      <th>3676681</th>\n",
       "      <td>2</td>\n",
       "      <td>ZYNEB</td>\n",
       "      <td>XXXX</td>\n",
       "      <td>XX</td>\n",
       "      <td>111</td>\n",
       "    </tr>\n",
       "  </tbody>\n",
       "</table>\n",
       "<p>3676682 rows × 5 columns</p>\n",
       "</div>"
      ],
      "text/plain": [
       "         sexe        preusuel annais dpt  nombre\n",
       "0           1  _PRENOMS_RARES   1900  02       7\n",
       "1           1  _PRENOMS_RARES   1900  04       9\n",
       "2           1  _PRENOMS_RARES   1900  05       8\n",
       "3           1  _PRENOMS_RARES   1900  06      23\n",
       "4           1  _PRENOMS_RARES   1900  07       9\n",
       "...       ...             ...    ...  ..     ...\n",
       "3676677     2             ZYA   2018  59       3\n",
       "3676678     2             ZYA   XXXX  XX     252\n",
       "3676679     2            ZYNA   2013  93       3\n",
       "3676680     2            ZYNA   XXXX  XX      54\n",
       "3676681     2           ZYNEB   XXXX  XX     111\n",
       "\n",
       "[3676682 rows x 5 columns]"
      ]
     },
     "execution_count": 35,
     "metadata": {
      "tags": []
     },
     "output_type": "execute_result"
    }
   ],
   "source": [
    "prenoms"
   ]
  },
  {
   "cell_type": "code",
   "execution_count": 36,
   "metadata": {
    "colab": {
     "base_uri": "https://localhost:8080/"
    },
    "id": "eMlfDyaK5FS3",
    "outputId": "9ad26790-8bcc-4c9e-b170-157d6e2c5c51"
   },
   "outputs": [
    {
     "data": {
      "text/plain": [
       "dpt\n",
       "01      440132\n",
       "02      845825\n",
       "03      500158\n",
       "04      106020\n",
       "05      126691\n",
       "        ...   \n",
       "971     643111\n",
       "972     639827\n",
       "973     174634\n",
       "974    1201566\n",
       "XX     8465506\n",
       "Name: nombre, Length: 100, dtype: int64"
      ]
     },
     "execution_count": 36,
     "metadata": {
      "tags": []
     },
     "output_type": "execute_result"
    }
   ],
   "source": [
    "dpt_sum = prenoms.groupby(\"dpt\").nombre.sum()\n",
    "dpt_sum\n",
    "#series 2D en texte -> pandas -> groupby -> series -> pour dataframes\n",
    "#dataframes ->3D de pandas"
   ]
  },
  {
   "cell_type": "code",
   "execution_count": 37,
   "metadata": {
    "colab": {
     "base_uri": "https://localhost:8080/"
    },
    "id": "LsR93n7z5kr4",
    "outputId": "52d79174-e34d-4633-b580-ece5b7585f8c"
   },
   "outputs": [
    {
     "data": {
      "text/plain": [
       "pandas.core.series.Series"
      ]
     },
     "execution_count": 37,
     "metadata": {
      "tags": []
     },
     "output_type": "execute_result"
    }
   ],
   "source": [
    "type(dpt_sum)"
   ]
  },
  {
   "cell_type": "code",
   "execution_count": 38,
   "metadata": {
    "id": "rUbx-n4J6YIi"
   },
   "outputs": [],
   "source": [
    "dpt_sum=dpt_sum.reset_index()"
   ]
  },
  {
   "cell_type": "code",
   "execution_count": 39,
   "metadata": {
    "colab": {
     "base_uri": "https://localhost:8080/",
     "height": 399
    },
    "id": "PCcqEUbV6c2K",
    "outputId": "b1886224-fa23-4eae-fa37-caa0ab7403e7"
   },
   "outputs": [
    {
     "data": {
      "text/html": [
       "<div>\n",
       "<style scoped>\n",
       "    .dataframe tbody tr th:only-of-type {\n",
       "        vertical-align: middle;\n",
       "    }\n",
       "\n",
       "    .dataframe tbody tr th {\n",
       "        vertical-align: top;\n",
       "    }\n",
       "\n",
       "    .dataframe thead th {\n",
       "        text-align: right;\n",
       "    }\n",
       "</style>\n",
       "<table border=\"1\" class=\"dataframe\">\n",
       "  <thead>\n",
       "    <tr style=\"text-align: right;\">\n",
       "      <th></th>\n",
       "      <th>dpt</th>\n",
       "      <th>nombre</th>\n",
       "    </tr>\n",
       "  </thead>\n",
       "  <tbody>\n",
       "    <tr>\n",
       "      <th>0</th>\n",
       "      <td>01</td>\n",
       "      <td>440132</td>\n",
       "    </tr>\n",
       "    <tr>\n",
       "      <th>1</th>\n",
       "      <td>02</td>\n",
       "      <td>845825</td>\n",
       "    </tr>\n",
       "    <tr>\n",
       "      <th>2</th>\n",
       "      <td>03</td>\n",
       "      <td>500158</td>\n",
       "    </tr>\n",
       "    <tr>\n",
       "      <th>3</th>\n",
       "      <td>04</td>\n",
       "      <td>106020</td>\n",
       "    </tr>\n",
       "    <tr>\n",
       "      <th>4</th>\n",
       "      <td>05</td>\n",
       "      <td>126691</td>\n",
       "    </tr>\n",
       "    <tr>\n",
       "      <th>...</th>\n",
       "      <td>...</td>\n",
       "      <td>...</td>\n",
       "    </tr>\n",
       "    <tr>\n",
       "      <th>95</th>\n",
       "      <td>971</td>\n",
       "      <td>643111</td>\n",
       "    </tr>\n",
       "    <tr>\n",
       "      <th>96</th>\n",
       "      <td>972</td>\n",
       "      <td>639827</td>\n",
       "    </tr>\n",
       "    <tr>\n",
       "      <th>97</th>\n",
       "      <td>973</td>\n",
       "      <td>174634</td>\n",
       "    </tr>\n",
       "    <tr>\n",
       "      <th>98</th>\n",
       "      <td>974</td>\n",
       "      <td>1201566</td>\n",
       "    </tr>\n",
       "    <tr>\n",
       "      <th>99</th>\n",
       "      <td>XX</td>\n",
       "      <td>8465506</td>\n",
       "    </tr>\n",
       "  </tbody>\n",
       "</table>\n",
       "<p>100 rows × 2 columns</p>\n",
       "</div>"
      ],
      "text/plain": [
       "    dpt   nombre\n",
       "0    01   440132\n",
       "1    02   845825\n",
       "2    03   500158\n",
       "3    04   106020\n",
       "4    05   126691\n",
       "..  ...      ...\n",
       "95  971   643111\n",
       "96  972   639827\n",
       "97  973   174634\n",
       "98  974  1201566\n",
       "99   XX  8465506\n",
       "\n",
       "[100 rows x 2 columns]"
      ]
     },
     "execution_count": 39,
     "metadata": {
      "tags": []
     },
     "output_type": "execute_result"
    }
   ],
   "source": [
    "dpt_sum"
   ]
  },
  {
   "cell_type": "code",
   "execution_count": 40,
   "metadata": {
    "colab": {
     "base_uri": "https://localhost:8080/"
    },
    "id": "M3rltr3J6did",
    "outputId": "fcf15353-780f-41d2-f350-586f5584b6f9"
   },
   "outputs": [
    {
     "data": {
      "text/plain": [
       "pandas.core.frame.DataFrame"
      ]
     },
     "execution_count": 40,
     "metadata": {
      "tags": []
     },
     "output_type": "execute_result"
    }
   ],
   "source": [
    "type(dpt_sum)"
   ]
  },
  {
   "cell_type": "code",
   "execution_count": 41,
   "metadata": {
    "id": "m5NJpaAU6g2c"
   },
   "outputs": [],
   "source": [
    "#renommer la colonne avant le merge"
   ]
  },
  {
   "cell_type": "code",
   "execution_count": 42,
   "metadata": {
    "id": "omcoPFy_68ba"
   },
   "outputs": [],
   "source": [
    "dpt_sum[\"code_insee\"]=dpt_sum.dpt"
   ]
  },
  {
   "cell_type": "code",
   "execution_count": 43,
   "metadata": {
    "colab": {
     "base_uri": "https://localhost:8080/",
     "height": 399
    },
    "id": "GPyuTqLT7GoK",
    "outputId": "791d8461-8d2c-41e0-d360-417f1acc69dd"
   },
   "outputs": [
    {
     "data": {
      "text/html": [
       "<div>\n",
       "<style scoped>\n",
       "    .dataframe tbody tr th:only-of-type {\n",
       "        vertical-align: middle;\n",
       "    }\n",
       "\n",
       "    .dataframe tbody tr th {\n",
       "        vertical-align: top;\n",
       "    }\n",
       "\n",
       "    .dataframe thead th {\n",
       "        text-align: right;\n",
       "    }\n",
       "</style>\n",
       "<table border=\"1\" class=\"dataframe\">\n",
       "  <thead>\n",
       "    <tr style=\"text-align: right;\">\n",
       "      <th></th>\n",
       "      <th>dpt</th>\n",
       "      <th>nombre</th>\n",
       "      <th>code_insee</th>\n",
       "    </tr>\n",
       "  </thead>\n",
       "  <tbody>\n",
       "    <tr>\n",
       "      <th>0</th>\n",
       "      <td>01</td>\n",
       "      <td>440132</td>\n",
       "      <td>01</td>\n",
       "    </tr>\n",
       "    <tr>\n",
       "      <th>1</th>\n",
       "      <td>02</td>\n",
       "      <td>845825</td>\n",
       "      <td>02</td>\n",
       "    </tr>\n",
       "    <tr>\n",
       "      <th>2</th>\n",
       "      <td>03</td>\n",
       "      <td>500158</td>\n",
       "      <td>03</td>\n",
       "    </tr>\n",
       "    <tr>\n",
       "      <th>3</th>\n",
       "      <td>04</td>\n",
       "      <td>106020</td>\n",
       "      <td>04</td>\n",
       "    </tr>\n",
       "    <tr>\n",
       "      <th>4</th>\n",
       "      <td>05</td>\n",
       "      <td>126691</td>\n",
       "      <td>05</td>\n",
       "    </tr>\n",
       "    <tr>\n",
       "      <th>...</th>\n",
       "      <td>...</td>\n",
       "      <td>...</td>\n",
       "      <td>...</td>\n",
       "    </tr>\n",
       "    <tr>\n",
       "      <th>95</th>\n",
       "      <td>971</td>\n",
       "      <td>643111</td>\n",
       "      <td>971</td>\n",
       "    </tr>\n",
       "    <tr>\n",
       "      <th>96</th>\n",
       "      <td>972</td>\n",
       "      <td>639827</td>\n",
       "      <td>972</td>\n",
       "    </tr>\n",
       "    <tr>\n",
       "      <th>97</th>\n",
       "      <td>973</td>\n",
       "      <td>174634</td>\n",
       "      <td>973</td>\n",
       "    </tr>\n",
       "    <tr>\n",
       "      <th>98</th>\n",
       "      <td>974</td>\n",
       "      <td>1201566</td>\n",
       "      <td>974</td>\n",
       "    </tr>\n",
       "    <tr>\n",
       "      <th>99</th>\n",
       "      <td>XX</td>\n",
       "      <td>8465506</td>\n",
       "      <td>XX</td>\n",
       "    </tr>\n",
       "  </tbody>\n",
       "</table>\n",
       "<p>100 rows × 3 columns</p>\n",
       "</div>"
      ],
      "text/plain": [
       "    dpt   nombre code_insee\n",
       "0    01   440132         01\n",
       "1    02   845825         02\n",
       "2    03   500158         03\n",
       "3    04   106020         04\n",
       "4    05   126691         05\n",
       "..  ...      ...        ...\n",
       "95  971   643111        971\n",
       "96  972   639827        972\n",
       "97  973   174634        973\n",
       "98  974  1201566        974\n",
       "99   XX  8465506         XX\n",
       "\n",
       "[100 rows x 3 columns]"
      ]
     },
     "execution_count": 43,
     "metadata": {
      "tags": []
     },
     "output_type": "execute_result"
    }
   ],
   "source": [
    "dpt_sum"
   ]
  },
  {
   "cell_type": "code",
   "execution_count": 44,
   "metadata": {
    "id": "Fyii7Vca7SuH"
   },
   "outputs": [],
   "source": [
    "#check si on peut merge avec 2 différents\n",
    "#on pouvait renommer également la colonne"
   ]
  },
  {
   "cell_type": "code",
   "execution_count": 145,
   "metadata": {
    "id": "8JXMRB30-kv6"
   },
   "outputs": [],
   "source": [
    "merged = map_df.merge(dpt_sum,on='code_insee')"
   ]
  },
  {
   "cell_type": "code",
   "execution_count": null,
   "metadata": {
    "colab": {
     "base_uri": "https://localhost:8080/",
     "height": 194
    },
    "id": "f7LREpkS-7mW",
    "outputId": "bc4e38b7-db03-4f2b-e3a3-b2ebda4f236f"
   },
   "outputs": [
    {
     "data": {
      "text/html": [
       "<div>\n",
       "<style scoped>\n",
       "    .dataframe tbody tr th:only-of-type {\n",
       "        vertical-align: middle;\n",
       "    }\n",
       "\n",
       "    .dataframe tbody tr th {\n",
       "        vertical-align: top;\n",
       "    }\n",
       "\n",
       "    .dataframe thead th {\n",
       "        text-align: right;\n",
       "    }\n",
       "</style>\n",
       "<table border=\"1\" class=\"dataframe\">\n",
       "  <thead>\n",
       "    <tr style=\"text-align: right;\">\n",
       "      <th></th>\n",
       "      <th>code_insee</th>\n",
       "      <th>nom</th>\n",
       "      <th>nuts3</th>\n",
       "      <th>wikipedia</th>\n",
       "      <th>geometry</th>\n",
       "      <th>dpt</th>\n",
       "      <th>nombre</th>\n",
       "    </tr>\n",
       "  </thead>\n",
       "  <tbody>\n",
       "    <tr>\n",
       "      <th>0</th>\n",
       "      <td>01</td>\n",
       "      <td>Ain</td>\n",
       "      <td>FR711</td>\n",
       "      <td>b'fr:Ain (d\\xe9partement)'</td>\n",
       "      <td>POLYGON ((5.25559 45.78459, 5.23987 45.77758, ...</td>\n",
       "      <td>01</td>\n",
       "      <td>383730.0</td>\n",
       "    </tr>\n",
       "    <tr>\n",
       "      <th>1</th>\n",
       "      <td>02</td>\n",
       "      <td>Aisne</td>\n",
       "      <td>FR221</td>\n",
       "      <td>b'fr:Aisne (d\\xe9partement)'</td>\n",
       "      <td>POLYGON ((3.48175 48.86640, 3.48647 48.85768, ...</td>\n",
       "      <td>02</td>\n",
       "      <td>724248.0</td>\n",
       "    </tr>\n",
       "    <tr>\n",
       "      <th>2</th>\n",
       "      <td>03</td>\n",
       "      <td>Allier</td>\n",
       "      <td>FR721</td>\n",
       "      <td>b'fr:Allier (d\\xe9partement)'</td>\n",
       "      <td>POLYGON ((2.38613 46.33196, 2.38407 46.33112, ...</td>\n",
       "      <td>03</td>\n",
       "      <td>434771.0</td>\n",
       "    </tr>\n",
       "    <tr>\n",
       "      <th>3</th>\n",
       "      <td>04</td>\n",
       "      <td>Alpes-de-Haute-Provence</td>\n",
       "      <td>FR821</td>\n",
       "      <td>fr:Alpes-de-Haute-Provence</td>\n",
       "      <td>POLYGON ((6.66579 43.83120, 6.67673 43.83178, ...</td>\n",
       "      <td>04</td>\n",
       "      <td>91797.0</td>\n",
       "    </tr>\n",
       "    <tr>\n",
       "      <th>4</th>\n",
       "      <td>05</td>\n",
       "      <td>Hautes-Alpes</td>\n",
       "      <td>FR822</td>\n",
       "      <td>fr:Hautes-Alpes</td>\n",
       "      <td>POLYGON ((6.24158 44.44686, 6.24411 44.44693, ...</td>\n",
       "      <td>05</td>\n",
       "      <td>110844.0</td>\n",
       "    </tr>\n",
       "  </tbody>\n",
       "</table>\n",
       "</div>"
      ],
      "text/plain": [
       "  code_insee                      nom  ... dpt    nombre\n",
       "0         01                      Ain  ...  01  383730.0\n",
       "1         02                    Aisne  ...  02  724248.0\n",
       "2         03                   Allier  ...  03  434771.0\n",
       "3         04  Alpes-de-Haute-Provence  ...  04   91797.0\n",
       "4         05             Hautes-Alpes  ...  05  110844.0\n",
       "\n",
       "[5 rows x 7 columns]"
      ]
     },
     "execution_count": 57,
     "metadata": {
      "tags": []
     },
     "output_type": "execute_result"
    }
   ],
   "source": [
    "merged.head()"
   ]
  },
  {
   "cell_type": "code",
   "execution_count": null,
   "metadata": {
    "colab": {
     "base_uri": "https://localhost:8080/",
     "height": 403
    },
    "id": "z_Ari9QT-9IT",
    "outputId": "73da35e6-9132-4fc4-b54e-2b17178f21bb"
   },
   "outputs": [
    {
     "data": {
      "text/plain": [
       "<matplotlib.axes._subplots.AxesSubplot at 0x7f675df24320>"
      ]
     },
     "execution_count": 58,
     "metadata": {
      "tags": []
     },
     "output_type": "execute_result"
    },
    {
     "data": {
      "image/png": "[encoded data removed]",
      "text/plain": [
       "<Figure size 576x432 with 2 Axes>"
      ]
     },
     "metadata": {
      "needs_background": "light",
      "tags": []
     },
     "output_type": "display_data"
    }
   ],
   "source": [
    "import matplotlib.pyplot as plt\n",
    "fig, ax = plt.subplots(1, figsize=(8, 6))\n",
    "\n",
    "merged.plot(column=\"nombre\",   ax=ax, linewidth=0.3,edgecolor=\"0.8\",legend=True,legend_kwds\n",
    "            ={\"label\": \"Total Birth by Departement\"})\n"
   ]
  },
  {
   "cell_type": "code",
   "execution_count": null,
   "metadata": {
    "id": "na3oooBy_CcW"
   },
   "outputs": [],
   "source": [
    "#il y a des coordonnées sur la map -> paris entre 2 et 4  et 49"
   ]
  },
  {
   "cell_type": "code",
   "execution_count": null,
   "metadata": {
    "id": "GPX90Km2_M3g"
   },
   "outputs": [],
   "source": [
    "#ou trier (subset) des sous ensemble qui ont que les dpt d'ile de france"
   ]
  },
  {
   "cell_type": "code",
   "execution_count": null,
   "metadata": {
    "colab": {
     "base_uri": "https://localhost:8080/",
     "height": 386
    },
    "id": "igmKZA1C_UXF",
    "outputId": "25279293-8c0d-4ac3-c62b-10c5b52c2619"
   },
   "outputs": [
    {
     "data": {
      "text/plain": [
       "<matplotlib.axes._subplots.AxesSubplot at 0x7f675deade10>"
      ]
     },
     "execution_count": 61,
     "metadata": {
      "tags": []
     },
     "output_type": "execute_result"
    },
    {
     "data": {
      "image/png": "[encoded data removed]",
      "text/plain": [
       "<Figure size 576x432 with 2 Axes>"
      ]
     },
     "metadata": {
      "needs_background": "light",
      "tags": []
     },
     "output_type": "display_data"
    }
   ],
   "source": [
    "\n",
    "fig, ax = plt.subplots(1, figsize=(8, 6))\n",
    "plt.axis([1.5,3,48.5,49.25])\n",
    "\n",
    "merged.plot(column=\"nombre\", ax=ax , linewidth=0.3, edgecolor=\"0.5\", legend=True, legend_kwds\n",
    "            ={\"label\": \"Total Birth by Departement\"})\n"
   ]
  },
  {
   "cell_type": "code",
   "execution_count": null,
   "metadata": {
    "id": "PwrPH70I_wm6"
   },
   "outputs": [],
   "source": [
    "#DOC DE GEOPANDAS\n",
    "# POUR ALLER PLUS LOIN : https://geopandas.org/mapping.html\n"
   ]
  },
  {
   "cell_type": "markdown",
   "metadata": {
    "id": "Pmnpko0QAUOR"
   },
   "source": [
    "### 3. EXERCICES :\n",
    "Display a choropleth map with Boys/girls total births disparity\n",
    "\n",
    "* The same but weighted by total dpt population\n",
    "\n",
    "\n",
    "* Display a choropleth map with number of girls named Emma born in 2018\n",
    "\n",
    "* The same but weighted by total dpt population ( for instance nb of Emma births per thousand of population in the dpt )\n",
    "\n",
    "to do this you must find a file with 2018 population for every dpt. the file must contain a department column with the same data as the prenoms dpt column...\n",
    "\n",
    "SUPERBONUS\n",
    "\n",
    "* choropleth map for the most innovant departements , population weighted what is innovation ?\n",
    "\n",
    "* choropleth map for the most trendsetting departements , population weighted what is trendsetting ? we could detect firstname that appear (or come again..) in one or a few departments only, and then grows in other departments\n",
    "\n",
    "SUPERBONUS\n",
    "\n",
    "* choropleth map for the most innovant departements , population weighted what is innovation ?\n",
    " \n",
    "* choropleth map for the most trendsetting departements , population weighted what is trendsetting ? we could detect firstname that appear (or come again..) in one or a few departments only, and then grows in other departments.\n"
   ]
  },
  {
   "cell_type": "code",
   "execution_count": 129,
   "metadata": {
    "colab": {
     "base_uri": "https://localhost:8080/"
    },
    "id": "1IBxYG1BDOS8",
    "outputId": "2ac5d019-3219-475e-b5c1-6965f293e2c4"
   },
   "outputs": [
    {
     "data": {
      "text/plain": [
       "dpt  sexe\n",
       "01   1        223592\n",
       "     2        216540\n",
       "02   1        430054\n",
       "     2        415771\n",
       "03   1        254648\n",
       "              ...   \n",
       "973  2         79971\n",
       "974  1        617721\n",
       "     2        583845\n",
       "XX   1       3779609\n",
       "     2       4685897\n",
       "Name: nombre, Length: 200, dtype: int64"
      ]
     },
     "execution_count": 129,
     "metadata": {
      "tags": []
     },
     "output_type": "execute_result"
    }
   ],
   "source": [
    "ratio = prenoms.groupby([\"dpt\",\"sexe\"]).nombre.sum()\n",
    "ratio"
   ]
  },
  {
   "cell_type": "code",
   "execution_count": 130,
   "metadata": {
    "colab": {
     "base_uri": "https://localhost:8080/",
     "height": 428
    },
    "id": "vVnORsjIWmxc",
    "outputId": "50a0f94c-2080-44e6-8395-3a10570ee106"
   },
   "outputs": [
    {
     "data": {
      "text/html": [
       "<div>\n",
       "<style scoped>\n",
       "    .dataframe tbody tr th:only-of-type {\n",
       "        vertical-align: middle;\n",
       "    }\n",
       "\n",
       "    .dataframe tbody tr th {\n",
       "        vertical-align: top;\n",
       "    }\n",
       "\n",
       "    .dataframe thead th {\n",
       "        text-align: right;\n",
       "    }\n",
       "</style>\n",
       "<table border=\"1\" class=\"dataframe\">\n",
       "  <thead>\n",
       "    <tr style=\"text-align: right;\">\n",
       "      <th>sexe</th>\n",
       "      <th>1</th>\n",
       "      <th>2</th>\n",
       "    </tr>\n",
       "    <tr>\n",
       "      <th>dpt</th>\n",
       "      <th></th>\n",
       "      <th></th>\n",
       "    </tr>\n",
       "  </thead>\n",
       "  <tbody>\n",
       "    <tr>\n",
       "      <th>01</th>\n",
       "      <td>223592</td>\n",
       "      <td>216540</td>\n",
       "    </tr>\n",
       "    <tr>\n",
       "      <th>02</th>\n",
       "      <td>430054</td>\n",
       "      <td>415771</td>\n",
       "    </tr>\n",
       "    <tr>\n",
       "      <th>03</th>\n",
       "      <td>254648</td>\n",
       "      <td>245510</td>\n",
       "    </tr>\n",
       "    <tr>\n",
       "      <th>04</th>\n",
       "      <td>55387</td>\n",
       "      <td>50633</td>\n",
       "    </tr>\n",
       "    <tr>\n",
       "      <th>05</th>\n",
       "      <td>65511</td>\n",
       "      <td>61180</td>\n",
       "    </tr>\n",
       "    <tr>\n",
       "      <th>...</th>\n",
       "      <td>...</td>\n",
       "      <td>...</td>\n",
       "    </tr>\n",
       "    <tr>\n",
       "      <th>971</th>\n",
       "      <td>339474</td>\n",
       "      <td>303637</td>\n",
       "    </tr>\n",
       "    <tr>\n",
       "      <th>972</th>\n",
       "      <td>334396</td>\n",
       "      <td>305431</td>\n",
       "    </tr>\n",
       "    <tr>\n",
       "      <th>973</th>\n",
       "      <td>94663</td>\n",
       "      <td>79971</td>\n",
       "    </tr>\n",
       "    <tr>\n",
       "      <th>974</th>\n",
       "      <td>617721</td>\n",
       "      <td>583845</td>\n",
       "    </tr>\n",
       "    <tr>\n",
       "      <th>XX</th>\n",
       "      <td>3779609</td>\n",
       "      <td>4685897</td>\n",
       "    </tr>\n",
       "  </tbody>\n",
       "</table>\n",
       "<p>100 rows × 2 columns</p>\n",
       "</div>"
      ],
      "text/plain": [
       "sexe        1        2\n",
       "dpt                   \n",
       "01     223592   216540\n",
       "02     430054   415771\n",
       "03     254648   245510\n",
       "04      55387    50633\n",
       "05      65511    61180\n",
       "..        ...      ...\n",
       "971    339474   303637\n",
       "972    334396   305431\n",
       "973     94663    79971\n",
       "974    617721   583845\n",
       "XX    3779609  4685897\n",
       "\n",
       "[100 rows x 2 columns]"
      ]
     },
     "execution_count": 130,
     "metadata": {
      "tags": []
     },
     "output_type": "execute_result"
    }
   ],
   "source": [
    "ratio = ratio.unstack()\n",
    "ratio"
   ]
  },
  {
   "cell_type": "code",
   "execution_count": 131,
   "metadata": {
    "colab": {
     "base_uri": "https://localhost:8080/",
     "height": 428
    },
    "id": "JvbY7I-HYMpp",
    "outputId": "1eb66189-0452-4175-f7e9-cd242d56a54e"
   },
   "outputs": [
    {
     "data": {
      "text/html": [
       "<div>\n",
       "<style scoped>\n",
       "    .dataframe tbody tr th:only-of-type {\n",
       "        vertical-align: middle;\n",
       "    }\n",
       "\n",
       "    .dataframe tbody tr th {\n",
       "        vertical-align: top;\n",
       "    }\n",
       "\n",
       "    .dataframe thead th {\n",
       "        text-align: right;\n",
       "    }\n",
       "</style>\n",
       "<table border=\"1\" class=\"dataframe\">\n",
       "  <thead>\n",
       "    <tr style=\"text-align: right;\">\n",
       "      <th>sexe</th>\n",
       "      <th>1</th>\n",
       "      <th>2</th>\n",
       "      <th>disparity</th>\n",
       "    </tr>\n",
       "    <tr>\n",
       "      <th>dpt</th>\n",
       "      <th></th>\n",
       "      <th></th>\n",
       "      <th></th>\n",
       "    </tr>\n",
       "  </thead>\n",
       "  <tbody>\n",
       "    <tr>\n",
       "      <th>01</th>\n",
       "      <td>223592</td>\n",
       "      <td>216540</td>\n",
       "      <td>1.032567</td>\n",
       "    </tr>\n",
       "    <tr>\n",
       "      <th>02</th>\n",
       "      <td>430054</td>\n",
       "      <td>415771</td>\n",
       "      <td>1.034353</td>\n",
       "    </tr>\n",
       "    <tr>\n",
       "      <th>03</th>\n",
       "      <td>254648</td>\n",
       "      <td>245510</td>\n",
       "      <td>1.037220</td>\n",
       "    </tr>\n",
       "    <tr>\n",
       "      <th>04</th>\n",
       "      <td>55387</td>\n",
       "      <td>50633</td>\n",
       "      <td>1.093891</td>\n",
       "    </tr>\n",
       "    <tr>\n",
       "      <th>05</th>\n",
       "      <td>65511</td>\n",
       "      <td>61180</td>\n",
       "      <td>1.070791</td>\n",
       "    </tr>\n",
       "    <tr>\n",
       "      <th>...</th>\n",
       "      <td>...</td>\n",
       "      <td>...</td>\n",
       "      <td>...</td>\n",
       "    </tr>\n",
       "    <tr>\n",
       "      <th>971</th>\n",
       "      <td>339474</td>\n",
       "      <td>303637</td>\n",
       "      <td>1.118026</td>\n",
       "    </tr>\n",
       "    <tr>\n",
       "      <th>972</th>\n",
       "      <td>334396</td>\n",
       "      <td>305431</td>\n",
       "      <td>1.094833</td>\n",
       "    </tr>\n",
       "    <tr>\n",
       "      <th>973</th>\n",
       "      <td>94663</td>\n",
       "      <td>79971</td>\n",
       "      <td>1.183717</td>\n",
       "    </tr>\n",
       "    <tr>\n",
       "      <th>974</th>\n",
       "      <td>617721</td>\n",
       "      <td>583845</td>\n",
       "      <td>1.058022</td>\n",
       "    </tr>\n",
       "    <tr>\n",
       "      <th>XX</th>\n",
       "      <td>3779609</td>\n",
       "      <td>4685897</td>\n",
       "      <td>0.806592</td>\n",
       "    </tr>\n",
       "  </tbody>\n",
       "</table>\n",
       "<p>100 rows × 3 columns</p>\n",
       "</div>"
      ],
      "text/plain": [
       "sexe        1        2  disparity\n",
       "dpt                              \n",
       "01     223592   216540   1.032567\n",
       "02     430054   415771   1.034353\n",
       "03     254648   245510   1.037220\n",
       "04      55387    50633   1.093891\n",
       "05      65511    61180   1.070791\n",
       "..        ...      ...        ...\n",
       "971    339474   303637   1.118026\n",
       "972    334396   305431   1.094833\n",
       "973     94663    79971   1.183717\n",
       "974    617721   583845   1.058022\n",
       "XX    3779609  4685897   0.806592\n",
       "\n",
       "[100 rows x 3 columns]"
      ]
     },
     "execution_count": 131,
     "metadata": {
      "tags": []
     },
     "output_type": "execute_result"
    }
   ],
   "source": [
    "ratio[\"disparity\"] = ratio[1]/ratio[2]\n",
    "#Ratio garcon / fille\n",
    "ratio"
   ]
  },
  {
   "cell_type": "code",
   "execution_count": 132,
   "metadata": {
    "colab": {
     "base_uri": "https://localhost:8080/",
     "height": 428
    },
    "id": "eHh6ACI4bUkQ",
    "outputId": "cded540a-b776-4a7a-8350-c451e6d55ddc"
   },
   "outputs": [
    {
     "data": {
      "text/html": [
       "<div>\n",
       "<style scoped>\n",
       "    .dataframe tbody tr th:only-of-type {\n",
       "        vertical-align: middle;\n",
       "    }\n",
       "\n",
       "    .dataframe tbody tr th {\n",
       "        vertical-align: top;\n",
       "    }\n",
       "\n",
       "    .dataframe thead th {\n",
       "        text-align: right;\n",
       "    }\n",
       "</style>\n",
       "<table border=\"1\" class=\"dataframe\">\n",
       "  <thead>\n",
       "    <tr style=\"text-align: right;\">\n",
       "      <th>sexe</th>\n",
       "      <th>1</th>\n",
       "      <th>2</th>\n",
       "      <th>disparity</th>\n",
       "      <th>code_insee</th>\n",
       "    </tr>\n",
       "    <tr>\n",
       "      <th>dpt</th>\n",
       "      <th></th>\n",
       "      <th></th>\n",
       "      <th></th>\n",
       "      <th></th>\n",
       "    </tr>\n",
       "  </thead>\n",
       "  <tbody>\n",
       "    <tr>\n",
       "      <th>01</th>\n",
       "      <td>223592</td>\n",
       "      <td>216540</td>\n",
       "      <td>1.032567</td>\n",
       "      <td>01</td>\n",
       "    </tr>\n",
       "    <tr>\n",
       "      <th>02</th>\n",
       "      <td>430054</td>\n",
       "      <td>415771</td>\n",
       "      <td>1.034353</td>\n",
       "      <td>02</td>\n",
       "    </tr>\n",
       "    <tr>\n",
       "      <th>03</th>\n",
       "      <td>254648</td>\n",
       "      <td>245510</td>\n",
       "      <td>1.037220</td>\n",
       "      <td>03</td>\n",
       "    </tr>\n",
       "    <tr>\n",
       "      <th>04</th>\n",
       "      <td>55387</td>\n",
       "      <td>50633</td>\n",
       "      <td>1.093891</td>\n",
       "      <td>04</td>\n",
       "    </tr>\n",
       "    <tr>\n",
       "      <th>05</th>\n",
       "      <td>65511</td>\n",
       "      <td>61180</td>\n",
       "      <td>1.070791</td>\n",
       "      <td>05</td>\n",
       "    </tr>\n",
       "    <tr>\n",
       "      <th>...</th>\n",
       "      <td>...</td>\n",
       "      <td>...</td>\n",
       "      <td>...</td>\n",
       "      <td>...</td>\n",
       "    </tr>\n",
       "    <tr>\n",
       "      <th>971</th>\n",
       "      <td>339474</td>\n",
       "      <td>303637</td>\n",
       "      <td>1.118026</td>\n",
       "      <td>971</td>\n",
       "    </tr>\n",
       "    <tr>\n",
       "      <th>972</th>\n",
       "      <td>334396</td>\n",
       "      <td>305431</td>\n",
       "      <td>1.094833</td>\n",
       "      <td>972</td>\n",
       "    </tr>\n",
       "    <tr>\n",
       "      <th>973</th>\n",
       "      <td>94663</td>\n",
       "      <td>79971</td>\n",
       "      <td>1.183717</td>\n",
       "      <td>973</td>\n",
       "    </tr>\n",
       "    <tr>\n",
       "      <th>974</th>\n",
       "      <td>617721</td>\n",
       "      <td>583845</td>\n",
       "      <td>1.058022</td>\n",
       "      <td>974</td>\n",
       "    </tr>\n",
       "    <tr>\n",
       "      <th>XX</th>\n",
       "      <td>3779609</td>\n",
       "      <td>4685897</td>\n",
       "      <td>0.806592</td>\n",
       "      <td>XX</td>\n",
       "    </tr>\n",
       "  </tbody>\n",
       "</table>\n",
       "<p>100 rows × 4 columns</p>\n",
       "</div>"
      ],
      "text/plain": [
       "sexe        1        2  disparity code_insee\n",
       "dpt                                         \n",
       "01     223592   216540   1.032567         01\n",
       "02     430054   415771   1.034353         02\n",
       "03     254648   245510   1.037220         03\n",
       "04      55387    50633   1.093891         04\n",
       "05      65511    61180   1.070791         05\n",
       "..        ...      ...        ...        ...\n",
       "971    339474   303637   1.118026        971\n",
       "972    334396   305431   1.094833        972\n",
       "973     94663    79971   1.183717        973\n",
       "974    617721   583845   1.058022        974\n",
       "XX    3779609  4685897   0.806592         XX\n",
       "\n",
       "[100 rows x 4 columns]"
      ]
     },
     "execution_count": 132,
     "metadata": {
      "tags": []
     },
     "output_type": "execute_result"
    }
   ],
   "source": [
    "ratio[\"code_insee\"]=ratio.index\n",
    "ratio\n"
   ]
  },
  {
   "cell_type": "code",
   "execution_count": 173,
   "metadata": {
    "colab": {
     "base_uri": "https://localhost:8080/",
     "height": 399
    },
    "id": "lak-O1kCbpDP",
    "outputId": "75834637-edb0-42a4-de4d-b22f404ef3f4"
   },
   "outputs": [
    {
     "data": {
      "text/html": [
       "<div>\n",
       "<style scoped>\n",
       "    .dataframe tbody tr th:only-of-type {\n",
       "        vertical-align: middle;\n",
       "    }\n",
       "\n",
       "    .dataframe tbody tr th {\n",
       "        vertical-align: top;\n",
       "    }\n",
       "\n",
       "    .dataframe thead th {\n",
       "        text-align: right;\n",
       "    }\n",
       "</style>\n",
       "<table border=\"1\" class=\"dataframe\">\n",
       "  <thead>\n",
       "    <tr style=\"text-align: right;\">\n",
       "      <th></th>\n",
       "      <th>code_insee</th>\n",
       "      <th>nom</th>\n",
       "      <th>nuts3</th>\n",
       "      <th>wikipedia</th>\n",
       "      <th>geometry</th>\n",
       "      <th>1</th>\n",
       "      <th>2</th>\n",
       "      <th>disparity</th>\n",
       "    </tr>\n",
       "  </thead>\n",
       "  <tbody>\n",
       "    <tr>\n",
       "      <th>0</th>\n",
       "      <td>01</td>\n",
       "      <td>Ain</td>\n",
       "      <td>FR711</td>\n",
       "      <td>b'fr:Ain (d\\xe9partement)'</td>\n",
       "      <td>POLYGON ((5.25559 45.78459, 5.23987 45.77758, ...</td>\n",
       "      <td>223592</td>\n",
       "      <td>216540</td>\n",
       "      <td>1.032567</td>\n",
       "    </tr>\n",
       "    <tr>\n",
       "      <th>1</th>\n",
       "      <td>02</td>\n",
       "      <td>Aisne</td>\n",
       "      <td>FR221</td>\n",
       "      <td>b'fr:Aisne (d\\xe9partement)'</td>\n",
       "      <td>POLYGON ((3.48175 48.86640, 3.48647 48.85768, ...</td>\n",
       "      <td>430054</td>\n",
       "      <td>415771</td>\n",
       "      <td>1.034353</td>\n",
       "    </tr>\n",
       "    <tr>\n",
       "      <th>2</th>\n",
       "      <td>03</td>\n",
       "      <td>Allier</td>\n",
       "      <td>FR721</td>\n",
       "      <td>b'fr:Allier (d\\xe9partement)'</td>\n",
       "      <td>POLYGON ((2.38613 46.33196, 2.38407 46.33112, ...</td>\n",
       "      <td>254648</td>\n",
       "      <td>245510</td>\n",
       "      <td>1.037220</td>\n",
       "    </tr>\n",
       "    <tr>\n",
       "      <th>3</th>\n",
       "      <td>04</td>\n",
       "      <td>Alpes-de-Haute-Provence</td>\n",
       "      <td>FR821</td>\n",
       "      <td>fr:Alpes-de-Haute-Provence</td>\n",
       "      <td>POLYGON ((6.66579 43.83120, 6.67673 43.83178, ...</td>\n",
       "      <td>55387</td>\n",
       "      <td>50633</td>\n",
       "      <td>1.093891</td>\n",
       "    </tr>\n",
       "    <tr>\n",
       "      <th>4</th>\n",
       "      <td>05</td>\n",
       "      <td>Hautes-Alpes</td>\n",
       "      <td>FR822</td>\n",
       "      <td>fr:Hautes-Alpes</td>\n",
       "      <td>POLYGON ((6.24158 44.44686, 6.24411 44.44693, ...</td>\n",
       "      <td>65511</td>\n",
       "      <td>61180</td>\n",
       "      <td>1.070791</td>\n",
       "    </tr>\n",
       "    <tr>\n",
       "      <th>...</th>\n",
       "      <td>...</td>\n",
       "      <td>...</td>\n",
       "      <td>...</td>\n",
       "      <td>...</td>\n",
       "      <td>...</td>\n",
       "      <td>...</td>\n",
       "      <td>...</td>\n",
       "      <td>...</td>\n",
       "    </tr>\n",
       "    <tr>\n",
       "      <th>89</th>\n",
       "      <td>91</td>\n",
       "      <td>Essonne</td>\n",
       "      <td>FR104</td>\n",
       "      <td>b'fr:Essonne (d\\xe9partement)'</td>\n",
       "      <td>POLYGON ((2.39233 48.33593, 2.39427 48.33263, ...</td>\n",
       "      <td>303485</td>\n",
       "      <td>279422</td>\n",
       "      <td>1.086117</td>\n",
       "    </tr>\n",
       "    <tr>\n",
       "      <th>90</th>\n",
       "      <td>92</td>\n",
       "      <td>Hauts-de-Seine</td>\n",
       "      <td>FR105</td>\n",
       "      <td>fr:Hauts-de-Seine</td>\n",
       "      <td>POLYGON ((2.31993 48.77075, 2.31588 48.76670, ...</td>\n",
       "      <td>607741</td>\n",
       "      <td>566360</td>\n",
       "      <td>1.073065</td>\n",
       "    </tr>\n",
       "    <tr>\n",
       "      <th>91</th>\n",
       "      <td>93</td>\n",
       "      <td>Seine-Saint-Denis</td>\n",
       "      <td>FR106</td>\n",
       "      <td>fr:Seine-Saint-Denis</td>\n",
       "      <td>POLYGON ((2.41899 48.84939, 2.41636 48.84924, ...</td>\n",
       "      <td>515173</td>\n",
       "      <td>478774</td>\n",
       "      <td>1.076025</td>\n",
       "    </tr>\n",
       "    <tr>\n",
       "      <th>92</th>\n",
       "      <td>94</td>\n",
       "      <td>Val-de-Marne</td>\n",
       "      <td>FR107</td>\n",
       "      <td>fr:Val-de-Marne</td>\n",
       "      <td>POLYGON ((2.41450 48.71780, 2.41320 48.71868, ...</td>\n",
       "      <td>425272</td>\n",
       "      <td>395986</td>\n",
       "      <td>1.073957</td>\n",
       "    </tr>\n",
       "    <tr>\n",
       "      <th>93</th>\n",
       "      <td>95</td>\n",
       "      <td>Val-d'Oise</td>\n",
       "      <td>FR108</td>\n",
       "      <td>fr:Val-d'Oise</td>\n",
       "      <td>POLYGON ((1.79674 49.07196, 1.79991 49.06425, ...</td>\n",
       "      <td>357437</td>\n",
       "      <td>330434</td>\n",
       "      <td>1.081720</td>\n",
       "    </tr>\n",
       "  </tbody>\n",
       "</table>\n",
       "<p>94 rows × 8 columns</p>\n",
       "</div>"
      ],
      "text/plain": [
       "   code_insee                      nom  nuts3  ...       1       2  disparity\n",
       "0          01                      Ain  FR711  ...  223592  216540   1.032567\n",
       "1          02                    Aisne  FR221  ...  430054  415771   1.034353\n",
       "2          03                   Allier  FR721  ...  254648  245510   1.037220\n",
       "3          04  Alpes-de-Haute-Provence  FR821  ...   55387   50633   1.093891\n",
       "4          05             Hautes-Alpes  FR822  ...   65511   61180   1.070791\n",
       "..        ...                      ...    ...  ...     ...     ...        ...\n",
       "89         91                  Essonne  FR104  ...  303485  279422   1.086117\n",
       "90         92           Hauts-de-Seine  FR105  ...  607741  566360   1.073065\n",
       "91         93        Seine-Saint-Denis  FR106  ...  515173  478774   1.076025\n",
       "92         94             Val-de-Marne  FR107  ...  425272  395986   1.073957\n",
       "93         95               Val-d'Oise  FR108  ...  357437  330434   1.081720\n",
       "\n",
       "[94 rows x 8 columns]"
      ]
     },
     "execution_count": 173,
     "metadata": {
      "tags": []
     },
     "output_type": "execute_result"
    }
   ],
   "source": [
    "ratio.columns\n",
    "merged = map_df.merge(ratio,on='code_insee')\n",
    "merged\n"
   ]
  },
  {
   "cell_type": "code",
   "execution_count": 169,
   "metadata": {
    "colab": {
     "base_uri": "https://localhost:8080/",
     "height": 392
    },
    "id": "pPGkoA_gYrvs",
    "outputId": "c757f5ed-3cec-48fa-91cd-21e94b607e01"
   },
   "outputs": [
    {
     "data": {
      "text/plain": [
       "<matplotlib.axes._subplots.AxesSubplot at 0x7fcb942167b8>"
      ]
     },
     "execution_count": 169,
     "metadata": {
      "tags": []
     },
     "output_type": "execute_result"
    },
    {
     "data": {
      "image/png": "[encoded data removed]",
      "text/plain": [
       "<Figure size 576x432 with 2 Axes>"
      ]
     },
     "metadata": {
      "needs_background": "light",
      "tags": []
     },
     "output_type": "display_data"
    }
   ],
   "source": [
    "\n",
    "fig, ax = plt.subplots(1, figsize=(8, 6))\n",
    "\n",
    "merged.plot(column=\"disparity\",ax=ax, linewidth=0.3,edgecolor=\"0.8\",legend=True,legend_kwds={\"label\": \"Boys/Girls total births disparity\"})\n"
   ]
  },
  {
   "cell_type": "code",
   "execution_count": 149,
   "metadata": {
    "colab": {
     "base_uri": "https://localhost:8080/",
     "height": 399
    },
    "id": "iVNRJ5zRXPVD",
    "outputId": "aaacbc82-e2a1-40a6-da3b-3b8e3d00048c"
   },
   "outputs": [
    {
     "data": {
      "text/html": [
       "<div>\n",
       "<style scoped>\n",
       "    .dataframe tbody tr th:only-of-type {\n",
       "        vertical-align: middle;\n",
       "    }\n",
       "\n",
       "    .dataframe tbody tr th {\n",
       "        vertical-align: top;\n",
       "    }\n",
       "\n",
       "    .dataframe thead th {\n",
       "        text-align: right;\n",
       "    }\n",
       "</style>\n",
       "<table border=\"1\" class=\"dataframe\">\n",
       "  <thead>\n",
       "    <tr style=\"text-align: right;\">\n",
       "      <th></th>\n",
       "      <th>CODDEP</th>\n",
       "      <th>DEP</th>\n",
       "      <th>NBARR</th>\n",
       "      <th>NBCAN</th>\n",
       "      <th>NBCOM</th>\n",
       "      <th>PMUN</th>\n",
       "      <th>PTOT</th>\n",
       "      <th>Unnamed: 7</th>\n",
       "    </tr>\n",
       "  </thead>\n",
       "  <tbody>\n",
       "    <tr>\n",
       "      <th>0</th>\n",
       "      <td>01</td>\n",
       "      <td>Ain</td>\n",
       "      <td>4</td>\n",
       "      <td>23.0</td>\n",
       "      <td>393</td>\n",
       "      <td>643350</td>\n",
       "      <td>659180</td>\n",
       "      <td>NaN</td>\n",
       "    </tr>\n",
       "    <tr>\n",
       "      <th>1</th>\n",
       "      <td>02</td>\n",
       "      <td>Aisne</td>\n",
       "      <td>5</td>\n",
       "      <td>21.0</td>\n",
       "      <td>800</td>\n",
       "      <td>534490</td>\n",
       "      <td>546527</td>\n",
       "      <td>NaN</td>\n",
       "    </tr>\n",
       "    <tr>\n",
       "      <th>2</th>\n",
       "      <td>03</td>\n",
       "      <td>Allier</td>\n",
       "      <td>3</td>\n",
       "      <td>19.0</td>\n",
       "      <td>317</td>\n",
       "      <td>337988</td>\n",
       "      <td>347035</td>\n",
       "      <td>NaN</td>\n",
       "    </tr>\n",
       "    <tr>\n",
       "      <th>3</th>\n",
       "      <td>04</td>\n",
       "      <td>Alpes-de-Haute-Provence</td>\n",
       "      <td>4</td>\n",
       "      <td>15.0</td>\n",
       "      <td>198</td>\n",
       "      <td>163915</td>\n",
       "      <td>168381</td>\n",
       "      <td>NaN</td>\n",
       "    </tr>\n",
       "    <tr>\n",
       "      <th>4</th>\n",
       "      <td>05</td>\n",
       "      <td>Hautes-Alpes</td>\n",
       "      <td>2</td>\n",
       "      <td>15.0</td>\n",
       "      <td>162</td>\n",
       "      <td>141284</td>\n",
       "      <td>145883</td>\n",
       "      <td>NaN</td>\n",
       "    </tr>\n",
       "    <tr>\n",
       "      <th>...</th>\n",
       "      <td>...</td>\n",
       "      <td>...</td>\n",
       "      <td>...</td>\n",
       "      <td>...</td>\n",
       "      <td>...</td>\n",
       "      <td>...</td>\n",
       "      <td>...</td>\n",
       "      <td>...</td>\n",
       "    </tr>\n",
       "    <tr>\n",
       "      <th>95</th>\n",
       "      <td>95</td>\n",
       "      <td>Val-d'Oise</td>\n",
       "      <td>3</td>\n",
       "      <td>21.0</td>\n",
       "      <td>184</td>\n",
       "      <td>1228618</td>\n",
       "      <td>1239262</td>\n",
       "      <td>NaN</td>\n",
       "    </tr>\n",
       "    <tr>\n",
       "      <th>96</th>\n",
       "      <td>971</td>\n",
       "      <td>Guadeloupe</td>\n",
       "      <td>2</td>\n",
       "      <td>21.0</td>\n",
       "      <td>32</td>\n",
       "      <td>390253</td>\n",
       "      <td>396153</td>\n",
       "      <td>NaN</td>\n",
       "    </tr>\n",
       "    <tr>\n",
       "      <th>97</th>\n",
       "      <td>972</td>\n",
       "      <td>Martinique</td>\n",
       "      <td>4</td>\n",
       "      <td>NaN</td>\n",
       "      <td>34</td>\n",
       "      <td>372594</td>\n",
       "      <td>377711</td>\n",
       "      <td>NaN</td>\n",
       "    </tr>\n",
       "    <tr>\n",
       "      <th>98</th>\n",
       "      <td>973</td>\n",
       "      <td>Guyane</td>\n",
       "      <td>2</td>\n",
       "      <td>NaN</td>\n",
       "      <td>22</td>\n",
       "      <td>268700</td>\n",
       "      <td>271124</td>\n",
       "      <td>NaN</td>\n",
       "    </tr>\n",
       "    <tr>\n",
       "      <th>99</th>\n",
       "      <td>974</td>\n",
       "      <td>La Réunion</td>\n",
       "      <td>4</td>\n",
       "      <td>25.0</td>\n",
       "      <td>24</td>\n",
       "      <td>853659</td>\n",
       "      <td>863063</td>\n",
       "      <td>NaN</td>\n",
       "    </tr>\n",
       "  </tbody>\n",
       "</table>\n",
       "<p>100 rows × 8 columns</p>\n",
       "</div>"
      ],
      "text/plain": [
       "   CODDEP                      DEP  NBARR  ...     PMUN     PTOT  Unnamed: 7\n",
       "0      01                      Ain      4  ...   643350   659180         NaN\n",
       "1      02                    Aisne      5  ...   534490   546527         NaN\n",
       "2      03                   Allier      3  ...   337988   347035         NaN\n",
       "3      04  Alpes-de-Haute-Provence      4  ...   163915   168381         NaN\n",
       "4      05             Hautes-Alpes      2  ...   141284   145883         NaN\n",
       "..    ...                      ...    ...  ...      ...      ...         ...\n",
       "95     95               Val-d'Oise      3  ...  1228618  1239262         NaN\n",
       "96    971               Guadeloupe      2  ...   390253   396153         NaN\n",
       "97    972               Martinique      4  ...   372594   377711         NaN\n",
       "98    973                   Guyane      2  ...   268700   271124         NaN\n",
       "99    974               La Réunion      4  ...   853659   863063         NaN\n",
       "\n",
       "[100 rows x 8 columns]"
      ]
     },
     "execution_count": 149,
     "metadata": {
      "tags": []
     },
     "output_type": "execute_result"
    }
   ],
   "source": [
    "#https://www.insee.fr/fr/statistiques/4265429?sommaire=4265511#documentation\n",
    "#Population 2017 par INSEE par de population pour 2019\n",
    "pop_dpt = pd.read_csv(\"Departements.csv\",sep=\";\")\n",
    "pop_dpt"
   ]
  },
  {
   "cell_type": "markdown",
   "metadata": {
    "id": "0QJbfRcyDPCw"
   },
   "source": [
    "https://www.insee.fr/fr/statistiques/fichier/4265429/ensemble.zip\n",
    "De Benjamin BEJNBAUM à tout le monde:  05:48 PM\n",
    "https://www.insee.fr/fr/statistiques/4265429?sommaire=4265511\n"
   ]
  },
  {
   "cell_type": "code",
   "execution_count": 174,
   "metadata": {
    "colab": {
     "base_uri": "https://localhost:8080/",
     "height": 506
    },
    "id": "M2N3gQ-8eGZX",
    "outputId": "c6cbedcb-a18b-4034-fa31-e2b3719def54"
   },
   "outputs": [
    {
     "name": "stderr",
     "output_type": "stream",
     "text": [
      "/usr/local/lib/python3.6/dist-packages/ipykernel_launcher.py:4: SettingWithCopyWarning: \n",
      "A value is trying to be set on a copy of a slice from a DataFrame.\n",
      "Try using .loc[row_indexer,col_indexer] = value instead\n",
      "\n",
      "See the caveats in the documentation: https://pandas.pydata.org/pandas-docs/stable/user_guide/indexing.html#returning-a-view-versus-a-copy\n",
      "  after removing the cwd from sys.path.\n"
     ]
    },
    {
     "data": {
      "text/html": [
       "<div>\n",
       "<style scoped>\n",
       "    .dataframe tbody tr th:only-of-type {\n",
       "        vertical-align: middle;\n",
       "    }\n",
       "\n",
       "    .dataframe tbody tr th {\n",
       "        vertical-align: top;\n",
       "    }\n",
       "\n",
       "    .dataframe thead th {\n",
       "        text-align: right;\n",
       "    }\n",
       "</style>\n",
       "<table border=\"1\" class=\"dataframe\">\n",
       "  <thead>\n",
       "    <tr style=\"text-align: right;\">\n",
       "      <th></th>\n",
       "      <th>CODDEP</th>\n",
       "      <th>PMUN</th>\n",
       "      <th>pop_total</th>\n",
       "      <th>code_insee</th>\n",
       "    </tr>\n",
       "  </thead>\n",
       "  <tbody>\n",
       "    <tr>\n",
       "      <th>0</th>\n",
       "      <td>01</td>\n",
       "      <td>643350</td>\n",
       "      <td>643350</td>\n",
       "      <td>01</td>\n",
       "    </tr>\n",
       "    <tr>\n",
       "      <th>1</th>\n",
       "      <td>02</td>\n",
       "      <td>534490</td>\n",
       "      <td>534490</td>\n",
       "      <td>02</td>\n",
       "    </tr>\n",
       "    <tr>\n",
       "      <th>2</th>\n",
       "      <td>03</td>\n",
       "      <td>337988</td>\n",
       "      <td>337988</td>\n",
       "      <td>03</td>\n",
       "    </tr>\n",
       "    <tr>\n",
       "      <th>3</th>\n",
       "      <td>04</td>\n",
       "      <td>163915</td>\n",
       "      <td>163915</td>\n",
       "      <td>04</td>\n",
       "    </tr>\n",
       "    <tr>\n",
       "      <th>4</th>\n",
       "      <td>05</td>\n",
       "      <td>141284</td>\n",
       "      <td>141284</td>\n",
       "      <td>05</td>\n",
       "    </tr>\n",
       "    <tr>\n",
       "      <th>...</th>\n",
       "      <td>...</td>\n",
       "      <td>...</td>\n",
       "      <td>...</td>\n",
       "      <td>...</td>\n",
       "    </tr>\n",
       "    <tr>\n",
       "      <th>95</th>\n",
       "      <td>95</td>\n",
       "      <td>1228618</td>\n",
       "      <td>1228618</td>\n",
       "      <td>95</td>\n",
       "    </tr>\n",
       "    <tr>\n",
       "      <th>96</th>\n",
       "      <td>971</td>\n",
       "      <td>390253</td>\n",
       "      <td>390253</td>\n",
       "      <td>971</td>\n",
       "    </tr>\n",
       "    <tr>\n",
       "      <th>97</th>\n",
       "      <td>972</td>\n",
       "      <td>372594</td>\n",
       "      <td>372594</td>\n",
       "      <td>972</td>\n",
       "    </tr>\n",
       "    <tr>\n",
       "      <th>98</th>\n",
       "      <td>973</td>\n",
       "      <td>268700</td>\n",
       "      <td>268700</td>\n",
       "      <td>973</td>\n",
       "    </tr>\n",
       "    <tr>\n",
       "      <th>99</th>\n",
       "      <td>974</td>\n",
       "      <td>853659</td>\n",
       "      <td>853659</td>\n",
       "      <td>974</td>\n",
       "    </tr>\n",
       "  </tbody>\n",
       "</table>\n",
       "<p>100 rows × 4 columns</p>\n",
       "</div>"
      ],
      "text/plain": [
       "   CODDEP     PMUN  pop_total code_insee\n",
       "0      01   643350     643350         01\n",
       "1      02   534490     534490         02\n",
       "2      03   337988     337988         03\n",
       "3      04   163915     163915         04\n",
       "4      05   141284     141284         05\n",
       "..    ...      ...        ...        ...\n",
       "95     95  1228618    1228618         95\n",
       "96    971   390253     390253        971\n",
       "97    972   372594     372594        972\n",
       "98    973   268700     268700        973\n",
       "99    974   853659     853659        974\n",
       "\n",
       "[100 rows x 4 columns]"
      ]
     },
     "execution_count": 174,
     "metadata": {
      "tags": []
     },
     "output_type": "execute_result"
    }
   ],
   "source": [
    "col = ['CODDEP','PMUN']\n",
    "pop_dpt= pop_dpt[col]\n",
    "pop_dpt\n",
    "pop_dpt[\"pop_total\"] = pop_dpt.PMUN\n",
    "#population municipale, on compte pas les résidances secondaires\n",
    "pop_dpt[\"code_insee\"] = pop_dpt.CODDEP\n",
    "pop_dpt\n",
    "\n",
    "\n"
   ]
  },
  {
   "cell_type": "code",
   "execution_count": 175,
   "metadata": {
    "colab": {
     "base_uri": "https://localhost:8080/",
     "height": 399
    },
    "id": "wLNRUGtegUxb",
    "outputId": "450822f3-1cfc-425b-f846-ed2f3e3f7265"
   },
   "outputs": [
    {
     "data": {
      "text/html": [
       "<div>\n",
       "<style scoped>\n",
       "    .dataframe tbody tr th:only-of-type {\n",
       "        vertical-align: middle;\n",
       "    }\n",
       "\n",
       "    .dataframe tbody tr th {\n",
       "        vertical-align: top;\n",
       "    }\n",
       "\n",
       "    .dataframe thead th {\n",
       "        text-align: right;\n",
       "    }\n",
       "</style>\n",
       "<table border=\"1\" class=\"dataframe\">\n",
       "  <thead>\n",
       "    <tr style=\"text-align: right;\">\n",
       "      <th></th>\n",
       "      <th>code_insee</th>\n",
       "      <th>nom</th>\n",
       "      <th>nuts3</th>\n",
       "      <th>wikipedia</th>\n",
       "      <th>geometry</th>\n",
       "      <th>CODDEP</th>\n",
       "      <th>PMUN</th>\n",
       "      <th>pop_total</th>\n",
       "    </tr>\n",
       "  </thead>\n",
       "  <tbody>\n",
       "    <tr>\n",
       "      <th>0</th>\n",
       "      <td>01</td>\n",
       "      <td>Ain</td>\n",
       "      <td>FR711</td>\n",
       "      <td>b'fr:Ain (d\\xe9partement)'</td>\n",
       "      <td>POLYGON ((5.25559 45.78459, 5.23987 45.77758, ...</td>\n",
       "      <td>01</td>\n",
       "      <td>643350</td>\n",
       "      <td>643350</td>\n",
       "    </tr>\n",
       "    <tr>\n",
       "      <th>1</th>\n",
       "      <td>02</td>\n",
       "      <td>Aisne</td>\n",
       "      <td>FR221</td>\n",
       "      <td>b'fr:Aisne (d\\xe9partement)'</td>\n",
       "      <td>POLYGON ((3.48175 48.86640, 3.48647 48.85768, ...</td>\n",
       "      <td>02</td>\n",
       "      <td>534490</td>\n",
       "      <td>534490</td>\n",
       "    </tr>\n",
       "    <tr>\n",
       "      <th>2</th>\n",
       "      <td>03</td>\n",
       "      <td>Allier</td>\n",
       "      <td>FR721</td>\n",
       "      <td>b'fr:Allier (d\\xe9partement)'</td>\n",
       "      <td>POLYGON ((2.38613 46.33196, 2.38407 46.33112, ...</td>\n",
       "      <td>03</td>\n",
       "      <td>337988</td>\n",
       "      <td>337988</td>\n",
       "    </tr>\n",
       "    <tr>\n",
       "      <th>3</th>\n",
       "      <td>04</td>\n",
       "      <td>Alpes-de-Haute-Provence</td>\n",
       "      <td>FR821</td>\n",
       "      <td>fr:Alpes-de-Haute-Provence</td>\n",
       "      <td>POLYGON ((6.66579 43.83120, 6.67673 43.83178, ...</td>\n",
       "      <td>04</td>\n",
       "      <td>163915</td>\n",
       "      <td>163915</td>\n",
       "    </tr>\n",
       "    <tr>\n",
       "      <th>4</th>\n",
       "      <td>05</td>\n",
       "      <td>Hautes-Alpes</td>\n",
       "      <td>FR822</td>\n",
       "      <td>fr:Hautes-Alpes</td>\n",
       "      <td>POLYGON ((6.24158 44.44686, 6.24411 44.44693, ...</td>\n",
       "      <td>05</td>\n",
       "      <td>141284</td>\n",
       "      <td>141284</td>\n",
       "    </tr>\n",
       "    <tr>\n",
       "      <th>...</th>\n",
       "      <td>...</td>\n",
       "      <td>...</td>\n",
       "      <td>...</td>\n",
       "      <td>...</td>\n",
       "      <td>...</td>\n",
       "      <td>...</td>\n",
       "      <td>...</td>\n",
       "      <td>...</td>\n",
       "    </tr>\n",
       "    <tr>\n",
       "      <th>91</th>\n",
       "      <td>91</td>\n",
       "      <td>Essonne</td>\n",
       "      <td>FR104</td>\n",
       "      <td>b'fr:Essonne (d\\xe9partement)'</td>\n",
       "      <td>POLYGON ((2.39233 48.33593, 2.39427 48.33263, ...</td>\n",
       "      <td>91</td>\n",
       "      <td>1296130</td>\n",
       "      <td>1296130</td>\n",
       "    </tr>\n",
       "    <tr>\n",
       "      <th>92</th>\n",
       "      <td>92</td>\n",
       "      <td>Hauts-de-Seine</td>\n",
       "      <td>FR105</td>\n",
       "      <td>fr:Hauts-de-Seine</td>\n",
       "      <td>POLYGON ((2.31993 48.77075, 2.31588 48.76670, ...</td>\n",
       "      <td>92</td>\n",
       "      <td>1609306</td>\n",
       "      <td>1609306</td>\n",
       "    </tr>\n",
       "    <tr>\n",
       "      <th>93</th>\n",
       "      <td>93</td>\n",
       "      <td>Seine-Saint-Denis</td>\n",
       "      <td>FR106</td>\n",
       "      <td>fr:Seine-Saint-Denis</td>\n",
       "      <td>POLYGON ((2.41899 48.84939, 2.41636 48.84924, ...</td>\n",
       "      <td>93</td>\n",
       "      <td>1623111</td>\n",
       "      <td>1623111</td>\n",
       "    </tr>\n",
       "    <tr>\n",
       "      <th>94</th>\n",
       "      <td>94</td>\n",
       "      <td>Val-de-Marne</td>\n",
       "      <td>FR107</td>\n",
       "      <td>fr:Val-de-Marne</td>\n",
       "      <td>POLYGON ((2.41450 48.71780, 2.41320 48.71868, ...</td>\n",
       "      <td>94</td>\n",
       "      <td>1387926</td>\n",
       "      <td>1387926</td>\n",
       "    </tr>\n",
       "    <tr>\n",
       "      <th>95</th>\n",
       "      <td>95</td>\n",
       "      <td>Val-d'Oise</td>\n",
       "      <td>FR108</td>\n",
       "      <td>fr:Val-d'Oise</td>\n",
       "      <td>POLYGON ((1.79674 49.07196, 1.79991 49.06425, ...</td>\n",
       "      <td>95</td>\n",
       "      <td>1228618</td>\n",
       "      <td>1228618</td>\n",
       "    </tr>\n",
       "  </tbody>\n",
       "</table>\n",
       "<p>96 rows × 8 columns</p>\n",
       "</div>"
      ],
      "text/plain": [
       "   code_insee                      nom  nuts3  ... CODDEP     PMUN pop_total\n",
       "0          01                      Ain  FR711  ...     01   643350    643350\n",
       "1          02                    Aisne  FR221  ...     02   534490    534490\n",
       "2          03                   Allier  FR721  ...     03   337988    337988\n",
       "3          04  Alpes-de-Haute-Provence  FR821  ...     04   163915    163915\n",
       "4          05             Hautes-Alpes  FR822  ...     05   141284    141284\n",
       "..        ...                      ...    ...  ...    ...      ...       ...\n",
       "91         91                  Essonne  FR104  ...     91  1296130   1296130\n",
       "92         92           Hauts-de-Seine  FR105  ...     92  1609306   1609306\n",
       "93         93        Seine-Saint-Denis  FR106  ...     93  1623111   1623111\n",
       "94         94             Val-de-Marne  FR107  ...     94  1387926   1387926\n",
       "95         95               Val-d'Oise  FR108  ...     95  1228618   1228618\n",
       "\n",
       "[96 rows x 8 columns]"
      ]
     },
     "execution_count": 175,
     "metadata": {
      "tags": []
     },
     "output_type": "execute_result"
    }
   ],
   "source": [
    "merged = map_df.merge(pop_dpt,on='code_insee')\n",
    "merged\n"
   ]
  },
  {
   "cell_type": "code",
   "execution_count": 202,
   "metadata": {
    "colab": {
     "base_uri": "https://localhost:8080/"
    },
    "id": "Iy1-mdu4il7N",
    "outputId": "020aaa54-94f2-481c-e6d4-976c14daaef7"
   },
   "outputs": [
    {
     "data": {
      "text/plain": [
       "01   NaN\n",
       "02   NaN\n",
       "03   NaN\n",
       "04   NaN\n",
       "05   NaN\n",
       "      ..\n",
       "95   NaN\n",
       "96   NaN\n",
       "97   NaN\n",
       "98   NaN\n",
       "99   NaN\n",
       "Length: 200, dtype: float64"
      ]
     },
     "execution_count": 202,
     "metadata": {
      "tags": []
     },
     "output_type": "execute_result"
    }
   ],
   "source": []
  },
  {
   "cell_type": "code",
   "execution_count": 185,
   "metadata": {
    "colab": {
     "base_uri": "https://localhost:8080/"
    },
    "id": "53O8npNojjql",
    "outputId": "6aae12f1-d40b-4991-ed43-e538997eb191"
   },
   "outputs": [
    {
     "data": {
      "text/plain": [
       "Index([1, 2, 'disparity', 'code_insee'], dtype='object', name='sexe')"
      ]
     },
     "execution_count": 185,
     "metadata": {
      "tags": []
     },
     "output_type": "execute_result"
    }
   ],
   "source": [
    "ratio.columns"
   ]
  },
  {
   "cell_type": "code",
   "execution_count": 186,
   "metadata": {
    "colab": {
     "base_uri": "https://localhost:8080/"
    },
    "id": "QU-bVsEOjnEh",
    "outputId": "ace008f1-b8ca-47c0-f262-a81082ee1240"
   },
   "outputs": [
    {
     "data": {
      "text/plain": [
       "Index(['CODDEP', 'PMUN', 'pop_total', 'code_insee'], dtype='object')"
      ]
     },
     "execution_count": 186,
     "metadata": {
      "tags": []
     },
     "output_type": "execute_result"
    }
   ],
   "source": [
    "pop_dpt.columns"
   ]
  }
 ],
 "metadata": {
  "colab": {
   "collapsed_sections": [],
   "name": "Python PDA 3.ipynb",
   "provenance": [],
   "toc_visible": true
  },
  "kernelspec": {
   "display_name": "Python 3",
   "language": "python",
   "name": "python3"
  },
  "language_info": {
   "codemirror_mode": {
    "name": "ipython",
    "version": 3
   },
   "file_extension": ".py",
   "mimetype": "text/x-python",
   "name": "python",
   "nbconvert_exporter": "python",
   "pygments_lexer": "ipython3",
   "version": "3.8.3"
  }
 },
 "nbformat": 4,
 "nbformat_minor": 1
}
